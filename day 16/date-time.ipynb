{
 "cells": [
  {
   "cell_type": "code",
   "execution_count": 1,
   "metadata": {},
   "outputs": [
    {
     "name": "stdout",
     "output_type": "stream",
     "text": [
      "Current Day: 30\n",
      "Current Month: 3\n",
      "Current Year: 2025\n",
      "Current Hour: 10\n",
      "Current Minute: 22\n",
      "Current Timestamp: 1743319362.775175\n",
      "Formatted Current Date: 03/30/2025, 10:22:42\n",
      "Converted Date: 2019-12-05 00:00:00\n",
      "Time Difference to New Year: 276 days, 13:37:17.224825\n",
      "Time Difference since 1 January 1970: 20177 days, 10:22:42.775175\n"
     ]
    }
   ],
   "source": [
    "from datetime import datetime\n",
    "\n",
    "# 1. Get the current day, month, year, hour, minute, and timestamp\n",
    "now = datetime.now()\n",
    "current_day = now.day\n",
    "current_month = now.month\n",
    "current_year = now.year\n",
    "current_hour = now.hour\n",
    "current_minute = now.minute\n",
    "current_timestamp = now.timestamp()\n",
    "\n",
    "print(\"Current Day:\", current_day)\n",
    "print(\"Current Month:\", current_month)\n",
    "print(\"Current Year:\", current_year)\n",
    "print(\"Current Hour:\", current_hour)\n",
    "print(\"Current Minute:\", current_minute)\n",
    "print(\"Current Timestamp:\", current_timestamp)\n",
    "\n",
    "# 2. Format the current date using the format: \"%m/%d/%Y, %H:%M:%S\"\n",
    "formatted_date = now.strftime(\"%m/%d/%Y, %H:%M:%S\")\n",
    "print(\"Formatted Current Date:\", formatted_date)\n",
    "\n",
    "# 3. Convert the string \"5 December, 2019\" to a datetime object\n",
    "date_string = \"5 December, 2019\"\n",
    "converted_date = datetime.strptime(date_string, \"%d %B, %Y\")\n",
    "print(\"Converted Date:\", converted_date)\n",
    "\n",
    "# 4. Calculate the time difference between now and New Year (1st Jan 2026)\n",
    "new_year = datetime(current_year + 1, 1, 1)\n",
    "time_difference_new_year = new_year - now\n",
    "print(\"Time Difference to New Year:\", time_difference_new_year)\n",
    "\n",
    "# 5. Calculate the time difference between 1 January 1970 and now\n",
    "epoch_time = datetime(1970, 1, 1)\n",
    "time_since_epoch = now - epoch_time\n",
    "print(\"Time Difference since 1 January 1970:\", time_since_epoch)\n"
   ]
  }
 ],
 "metadata": {
  "kernelspec": {
   "display_name": "Python 3",
   "language": "python",
   "name": "python3"
  },
  "language_info": {
   "codemirror_mode": {
    "name": "ipython",
    "version": 3
   },
   "file_extension": ".py",
   "mimetype": "text/x-python",
   "name": "python",
   "nbconvert_exporter": "python",
   "pygments_lexer": "ipython3",
   "version": "3.12.6"
  }
 },
 "nbformat": 4,
 "nbformat_minor": 2
}
