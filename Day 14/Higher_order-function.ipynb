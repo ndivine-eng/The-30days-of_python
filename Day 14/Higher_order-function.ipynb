{
 "cells": [
  {
   "cell_type": "markdown",
   "metadata": {},
   "source": [
    "Exercises: Level 1\n",
    "Difference between map, filter, and reduce\n",
    "\n",
    "map() is used to transform each element in an iterable by applying a given function and returns a new iterable.\n",
    "\n",
    "filter() selects elements based on a condition and returns only those that meet the condition.\n",
    "\n",
    "reduce() applies a function cumulatively to all elements in an iterable, reducing them to a single value.\n",
    "\n",
    "Difference between Higher-Order Function, Closure, and Decorator\n",
    "\n",
    "A higher-order function takes another function as an argument or returns one. Examples include map(), filter(), and reduce().\n",
    "\n",
    "A closure is a function that captures and remembers the variables from its outer scope even after the function has finished executing.\n",
    "\n",
    "A decorator is a special type of higher-order function that modifies the behavior of another function without changing its actual code.\n",
    "\n",
    "Define a function before using map, filter, or reduce\n",
    "\n",
    "You can define a regular function and use it inside these functions. For example, defining def square(x): return x**2 and then using it in map(square, numbers).\n",
    "\n",
    "Use for loop to print each country, name, and number\n",
    "\n",
    "Iterating over a list using for allows you to print each element one by one."
   ]
  },
  {
   "cell_type": "code",
   "execution_count": 1,
   "metadata": {},
   "outputs": [
    {
     "name": "stdout",
     "output_type": "stream",
     "text": [
      "[1, 4, 9, 16, 25]\n",
      "[2, 4]\n",
      "15\n"
     ]
    }
   ],
   "source": [
    "from functools import reduce\n",
    "\n",
    "numbers = [1, 2, 3, 4, 5]\n",
    "\n",
    "# Using map() to square numbers\n",
    "squared_numbers = list(map(lambda x: x**2, numbers))\n",
    "\n",
    "# Using filter() to keep only even numbers\n",
    "even_numbers = list(filter(lambda x: x % 2 == 0, numbers))\n",
    "\n",
    "# Using reduce() to sum all numbers\n",
    "sum_numbers = reduce(lambda x, y: x + y, numbers)\n",
    "\n",
    "print(squared_numbers)  # [1, 4, 9, 16, 25]\n",
    "print(even_numbers)  # [2, 4]\n",
    "print(sum_numbers)  # 15\n"
   ]
  },
  {
   "cell_type": "code",
   "execution_count": 2,
   "metadata": {},
   "outputs": [
    {
     "name": "stdout",
     "output_type": "stream",
     "text": [
      "15\n"
     ]
    }
   ],
   "source": [
    "def outer_function(x):\n",
    "    def inner_function(y):\n",
    "        return x + y  # Inner function remembers x\n",
    "    return inner_function\n",
    "\n",
    "add_5 = outer_function(5)\n",
    "print(add_5(10))  # Output: 15\n"
   ]
  },
  {
   "cell_type": "code",
   "execution_count": null,
   "metadata": {},
   "outputs": [],
   "source": [
    "# Define a function before using map, filter, or reduce\n",
    "def square(num):\n",
    "    return num ** 2\n",
    "\n",
    "numbers = [1, 2, 3, 4, 5]\n",
    "squared_numbers = list(map(square, numbers))  # Using predefined function in map()\n",
    "print(squared_numbers)  # [1, 4, 9, 16, 25]\n"
   ]
  },
  {
   "cell_type": "code",
   "execution_count": 3,
   "metadata": {},
   "outputs": [
    {
     "name": "stdout",
     "output_type": "stream",
     "text": [
      "Finland\n",
      "Sweden\n",
      "Norway\n",
      "Alice\n",
      "Bob\n",
      "Charlie\n",
      "1\n",
      "2\n",
      "3\n",
      "4\n",
      "5\n"
     ]
    }
   ],
   "source": [
    "# 4. Use for loop to print each country, name, and number\n",
    "countries = [\"Finland\", \"Sweden\", \"Norway\"]\n",
    "names = [\"Alice\", \"Bob\", \"Charlie\"]\n",
    "numbers = [1, 2, 3, 4, 5]\n",
    "\n",
    "for country in countries:\n",
    "    print(country)\n",
    "\n",
    "for name in names:\n",
    "    print(name)\n",
    "\n",
    "for number in numbers:\n",
    "    print(number)\n"
   ]
  },
  {
   "cell_type": "code",
   "execution_count": null,
   "metadata": {},
   "outputs": [],
   "source": [
    "# Exercises: Level 2"
   ]
  },
  {
   "cell_type": "code",
   "execution_count": 4,
   "metadata": {},
   "outputs": [
    {
     "name": "stdout",
     "output_type": "stream",
     "text": [
      "['FINLAND', 'SWEDEN', 'NORWAY']\n",
      "[1, 4, 9, 16, 25]\n",
      "['ALICE', 'BOB', 'CHARLIE']\n"
     ]
    }
   ],
   "source": [
    "# 1. Use map to modify lists\n",
    "# Convert countries to uppercase\n",
    "upper_countries = list(map(lambda country: country.upper(), countries))\n",
    "\n",
    "# Square numbers\n",
    "squared_numbers = list(map(lambda num: num**2, numbers))\n",
    "\n",
    "# Convert names to uppercase\n",
    "upper_names = list(map(lambda name: name.upper(), names))\n",
    "\n",
    "print(upper_countries)  \n",
    "print(squared_numbers)  \n",
    "print(upper_names)  \n"
   ]
  },
  {
   "cell_type": "code",
   "execution_count": null,
   "metadata": {},
   "outputs": [],
   "source": [
    "# 2. Use filter to filter countries\n",
    "# Filter countries containing 'land'\n",
    "land_countries = list(filter(lambda country: 'land' in country.lower(), countries))\n",
    "\n",
    "# Filter countries with exactly 6 characters\n",
    "six_char_countries = list(filter(lambda country: len(country) == 6, countries))\n",
    "\n",
    "# Filter countries with six or more letters\n",
    "six_or_more_countries = list(filter(lambda country: len(country) >= 6, countries))\n",
    "\n",
    "# Filter countries starting with 'E'\n",
    "e_countries = list(filter(lambda country: country.startswith('E'), countries))\n"
   ]
  },
  {
   "cell_type": "code",
   "execution_count": null,
   "metadata": {},
   "outputs": [],
   "source": [
    "# 3. Chain list iterators (map, filter, reduce)\n",
    "from functools import reduce\n",
    "\n",
    "# Example: Find the sum of squares of even numbers\n",
    "sum_of_squares = reduce(lambda x, y: x + y, \n",
    "                        map(lambda x: x**2, \n",
    "                            filter(lambda x: x % 2 == 0, numbers)))\n",
    "print(sum_of_squares)\n"
   ]
  },
  {
   "cell_type": "code",
   "execution_count": 5,
   "metadata": {},
   "outputs": [
    {
     "name": "stdout",
     "output_type": "stream",
     "text": [
      "['Hello', 'World', 'Python']\n"
     ]
    }
   ],
   "source": [
    "# 4. Function to return only strings from a list\n",
    "def get_string_lists(lst):\n",
    "    return list(filter(lambda item: isinstance(item, str), lst))\n",
    "\n",
    "print(get_string_lists([\"Hello\", 42, \"World\", 3.14, \"Python\"]))\n"
   ]
  },
  {
   "cell_type": "code",
   "execution_count": null,
   "metadata": {},
   "outputs": [],
   "source": [
    "# 5. Use reduce to sum numbers and concatenate country names\n",
    "sum_numbers = reduce(lambda x, y: x + y, numbers)\n",
    "\n",
    "concatenated_countries = reduce(lambda x, y: x + ', ' + y, countries) + \" are north European countries\"\n",
    "\n",
    "print(sum_numbers)\n",
    "print(concatenated_countries)\n"
   ]
  },
  {
   "cell_type": "code",
   "execution_count": null,
   "metadata": {},
   "outputs": [],
   "source": [
    "# 6. Categorize countries based on patterns\n",
    "def categorize_countries(countries, pattern):\n",
    "    return list(filter(lambda country: pattern in country.lower(), countries))\n",
    "\n",
    "land_countries = categorize_countries(countries, 'land')\n",
    "print(land_countries)\n"
   ]
  },
  {
   "cell_type": "code",
   "execution_count": null,
   "metadata": {},
   "outputs": [],
   "source": [
    "# 7. Function returning dictionary of first-letter country count\n",
    "def country_count_by_letter(countries):\n",
    "    country_dict = {}\n",
    "    for country in countries:\n",
    "        first_letter = country[0].upper()\n",
    "        country_dict[first_letter] = country_dict.get(first_letter, 0) + 1\n",
    "    return country_dict\n",
    "\n",
    "print(country_count_by_letter(countries))\n"
   ]
  },
  {
   "cell_type": "code",
   "execution_count": null,
   "metadata": {},
   "outputs": [],
   "source": [
    "# 8. Get first and last 10 countries from a list\n",
    "def get_first_ten_countries(countries):\n",
    "    return countries[:10]\n",
    "\n",
    "def get_last_ten_countries(countries):\n",
    "    return countries[-10:]\n",
    "\n",
    "print(get_first_ten_countries(countries))\n",
    "print(get_last_ten_countries(countries))\n"
   ]
  },
  {
   "cell_type": "code",
   "execution_count": null,
   "metadata": {},
   "outputs": [],
   "source": [
    "# Exercises: Level 3\n",
    "# 1. Sort countries by name, capital, and population\n",
    "from countries_data import countries_data  # Assuming you have this data\n",
    "\n",
    "# Sort by name\n",
    "sorted_by_name = sorted(countries_data, key=lambda c: c['name'])\n",
    "\n",
    "# Sort by capital\n",
    "sorted_by_capital = sorted(countries_data, key=lambda c: c['capital'])\n",
    "\n",
    "# Sort by population\n",
    "sorted_by_population = sorted(countries_data, key=lambda c: c['population'], reverse=True)\n"
   ]
  },
  {
   "cell_type": "code",
   "execution_count": null,
   "metadata": {},
   "outputs": [],
   "source": [
    "# 2. Sort the 10 most spoken languages\n",
    "from collections import Counter\n",
    "\n",
    "# Extract all languages\n",
    "languages = [lang for country in countries_data for lang in country['languages']]\n",
    "language_counts = Counter(languages)\n",
    "\n",
    "# Get the top 10 most spoken languages\n",
    "most_spoken_languages = language_counts.most_common(10)\n",
    "print(most_spoken_languages)\n"
   ]
  },
  {
   "cell_type": "code",
   "execution_count": null,
   "metadata": {},
   "outputs": [],
   "source": [
    "# 3. Sort the 10 most populated countries\n",
    "most_populated_countries = sorted(countries_data, key=lambda c: c['population'], reverse=True)[:10]\n",
    "print(most_populated_countries)\n"
   ]
  }
 ],
 "metadata": {
  "kernelspec": {
   "display_name": "Python 3",
   "language": "python",
   "name": "python3"
  },
  "language_info": {
   "codemirror_mode": {
    "name": "ipython",
    "version": 3
   },
   "file_extension": ".py",
   "mimetype": "text/x-python",
   "name": "python",
   "nbconvert_exporter": "python",
   "pygments_lexer": "ipython3",
   "version": "3.12.6"
  }
 },
 "nbformat": 4,
 "nbformat_minor": 2
}
