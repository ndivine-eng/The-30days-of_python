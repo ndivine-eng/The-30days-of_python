{
 "cells": [
  {
   "cell_type": "code",
   "execution_count": 1,
   "metadata": {},
   "outputs": [
    {
     "name": "stdout",
     "output_type": "stream",
     "text": [
      "[-4, -3, -2, -1, 0]\n"
     ]
    }
   ],
   "source": [
    "#1. Filter only negative and zero in the list using list comprehension\n",
    "numbers = [-4, -3, -2, -1, 0, 2, 4, 6]  # Define the list with positive, negative, and zero\n",
    "negative_and_zero = [num for num in numbers if num <= 0]  # List comprehension to filter negative and zero\n",
    "print(negative_and_zero)  # Output the filtered list\n"
   ]
  },
  {
   "cell_type": "code",
   "execution_count": 2,
   "metadata": {},
   "outputs": [
    {
     "name": "stdout",
     "output_type": "stream",
     "text": [
      "[1, 2, 3, 4, 5, 6, 7, 8, 9]\n"
     ]
    }
   ],
   "source": [
    "#2. Flatten a list of lists of lists to a one-dimensional list\n",
    "list_of_lists = [[[1, 2, 3]], [[4, 5, 6]], [[7, 8, 9]]]  # Nested list structure\n",
    "flattened_list = [num for sublist in list_of_lists for inner in sublist for num in inner]  \n",
    "# List comprehension:\n",
    "# - Iterate over each outermost list (sublist)\n",
    "# - Iterate over each inner list (inner)\n",
    "# - Extract individual elements (num)\n",
    "\n",
    "print(flattened_list)  # Output the flattened list\n"
   ]
  },
  {
   "cell_type": "code",
   "execution_count": 3,
   "metadata": {},
   "outputs": [
    {
     "name": "stdout",
     "output_type": "stream",
     "text": [
      "[(0, 1, 0, 0, 0, 0, 0), (1, 1, 1, 1, 1, 1, 1), (2, 1, 2, 4, 8, 16, 32), (3, 1, 3, 9, 27, 81, 243), (4, 1, 4, 16, 64, 256, 1024), (5, 1, 5, 25, 125, 625, 3125), (6, 1, 6, 36, 216, 1296, 7776), (7, 1, 7, 49, 343, 2401, 16807), (8, 1, 8, 64, 512, 4096, 32768), (9, 1, 9, 81, 729, 6561, 59049), (10, 1, 10, 100, 1000, 10000, 100000)]\n"
     ]
    }
   ],
   "source": [
    "#3. Create a list of tuples using list comprehension\n",
    "table = [(i, 1, i**1, i**2, i**3, i**4, i**5) for i in range(11)]\n",
    "# List comprehension:\n",
    "# - Iterate from 0 to 10 (range(11))\n",
    "# - Create a tuple with:\n",
    "#   - First value: i (row index)\n",
    "#   - Second value: Always 1\n",
    "#   - Third to seventh values: Powers of i from i^1 to i^5\n",
    "\n",
    "print(table)  # Output the generated table\n",
    "\n",
    "\n"
   ]
  },
  {
   "cell_type": "code",
   "execution_count": 4,
   "metadata": {},
   "outputs": [
    {
     "name": "stdout",
     "output_type": "stream",
     "text": [
      "[['FINLAND', 'FIN', 'HELSINKI'], ['SWEDEN', 'SWE', 'STOCKHOLM'], ['NORWAY', 'NOR', 'OSLO']]\n"
     ]
    }
   ],
   "source": [
    "# 4. Flatten the list of countries into a formatted list\n",
    "countries = [[('Finland', 'Helsinki')], [('Sweden', 'Stockholm')], [('Norway', 'Oslo')]]\n",
    "formatted_countries = [[country.upper(), country[:3].upper(), city.upper()] \n",
    "                       for sublist in countries for country, city in sublist]\n",
    "# List comprehension:\n",
    "# - Iterate over each sublist in countries\n",
    "# - Extract country and city\n",
    "# - Convert country name to uppercase\n",
    "# - Extract the first 3 letters of the country name in uppercase\n",
    "# - Convert city name to uppercase\n",
    "\n",
    "print(formatted_countries)  # Output the formatted list\n"
   ]
  },
  {
   "cell_type": "code",
   "execution_count": 5,
   "metadata": {},
   "outputs": [
    {
     "name": "stdout",
     "output_type": "stream",
     "text": [
      "[{'country': 'FINLAND', 'city': 'HELSINKI'}, {'country': 'SWEDEN', 'city': 'STOCKHOLM'}, {'country': 'NORWAY', 'city': 'OSLO'}]\n"
     ]
    }
   ],
   "source": [
    "# 5. Convert the list to a list of dictionaries\n",
    "countries_dict = [{'country': country.upper(), 'city': city.upper()} \n",
    "                  for sublist in countries for country, city in sublist]\n",
    "# List comprehension:\n",
    "# - Iterate over sublists\n",
    "# - Extract country and city\n",
    "# - Convert both to uppercase\n",
    "# - Store them in a dictionary with keys 'country' and 'city'\n",
    "\n",
    "print(countries_dict)  # Output the list of dictionaries\n"
   ]
  },
  {
   "cell_type": "code",
   "execution_count": null,
   "metadata": {},
   "outputs": [],
   "source": [
    "# 6. Convert a list of lists into concatenated strings\n",
    "names = [[('Asabeneh', 'Yetayeh')], [('David', 'Smith')], [('Donald', 'Trump')], [('Bill', 'Gates')]]\n",
    "concatenated_names = [' '.join(name) for sublist in names for name in sublist]\n",
    "# List comprehension:\n",
    "# - Iterate over each sublist\n",
    "# - Extract name tuple\n",
    "# - Use ' '.join(name) to concatenate first and last name with a space\n",
    "\n",
    "print(concatenated_names)  # Output the list of full names\n"
   ]
  },
  {
   "cell_type": "code",
   "execution_count": 6,
   "metadata": {},
   "outputs": [
    {
     "name": "stdout",
     "output_type": "stream",
     "text": [
      "Slope: 1.3333333333333333\n",
      "Y-Intercept: 0.3333333333333335\n"
     ]
    }
   ],
   "source": [
    "# 7. Lambda function for solving slope and y-intercept of a linear function\n",
    "\n",
    "slope = lambda x1, y1, x2, y2: (y2 - y1) / (x2 - x1) if x2 != x1 else None\n",
    "# Define a lambda function to calculate slope:\n",
    "# - Formula: m = (y2 - y1) / (x2 - x1)\n",
    "# - Ensure x2 is not equal to x1 to avoid division by zero\n",
    "\n",
    "y_intercept = lambda x, y, m: y - m * x if m is not None else None\n",
    "# Define a lambda function to calculate y-intercept:\n",
    "# - Formula: b = y - mx\n",
    "# - Ensure slope (m) is not None before performing calculation\n",
    "\n",
    "# Example usage:\n",
    "m = slope(2, 3, 5, 7)  # Calculate slope for two points (2,3) and (5,7)\n",
    "b = y_intercept(2, 3, m)  # Calculate y-intercept using the slope\n",
    "\n",
    "print(f\"Slope: {m}\")  # Output calculated slope\n",
    "print(f\"Y-Intercept: {b}\")  # Output calculated y-intercept\n"
   ]
  }
 ],
 "metadata": {
  "kernelspec": {
   "display_name": "Python 3",
   "language": "python",
   "name": "python3"
  },
  "language_info": {
   "codemirror_mode": {
    "name": "ipython",
    "version": 3
   },
   "file_extension": ".py",
   "mimetype": "text/x-python",
   "name": "python",
   "nbconvert_exporter": "python",
   "pygments_lexer": "ipython3",
   "version": "3.12.6"
  }
 },
 "nbformat": 4,
 "nbformat_minor": 2
}
