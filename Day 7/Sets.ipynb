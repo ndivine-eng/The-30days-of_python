{
 "cells": [
  {
   "cell_type": "code",
   "execution_count": 1,
   "metadata": {},
   "outputs": [
    {
     "name": "stdout",
     "output_type": "stream",
     "text": [
      "Length of IT companies set: 7\n",
      "IT companies after adding Twitter: {'Oracle', 'Google', 'Apple', 'IBM', 'Facebook', 'Amazon', 'Twitter', 'Microsoft'}\n",
      "IT companies after adding multiple: {'Twitter', 'Cisco', 'Samsung', 'Oracle', 'Intel', 'Google', 'Facebook', 'Amazon', 'Microsoft', 'Apple', 'IBM'}\n",
      "IT companies after removing IBM: {'Twitter', 'Cisco', 'Samsung', 'Oracle', 'Intel', 'Google', 'Facebook', 'Amazon', 'Microsoft', 'Apple'}\n",
      "IT companies after using discard: {'Twitter', 'Cisco', 'Samsung', 'Oracle', 'Intel', 'Google', 'Facebook', 'Amazon', 'Microsoft', 'Apple'}\n"
     ]
    }
   ],
   "source": [
    "# Creating the set\n",
    "it_companies = {\"Facebook\", \"Google\", \"Microsoft\", \"Apple\", \"IBM\", \"Oracle\", \"Amazon\"}\n",
    "\n",
    "# 1. Find the length of the set\n",
    "print(\"Length of IT companies set:\", len(it_companies))\n",
    "\n",
    "# 2. Add 'Twitter' to it_companies\n",
    "it_companies.add(\"Twitter\")\n",
    "print(\"IT companies after adding Twitter:\", it_companies)\n",
    "\n",
    "# 3. Insert multiple IT companies at once\n",
    "it_companies.update([\"Samsung\", \"Intel\", \"Cisco\"])\n",
    "print(\"IT companies after adding multiple:\", it_companies)\n",
    "\n",
    "# 4. Remove one company\n",
    "it_companies.remove(\"IBM\")  # This will raise an error if \"IBM\" is not in the set\n",
    "print(\"IT companies after removing IBM:\", it_companies)\n",
    "\n",
    "# 5. Difference between remove() and discard()\n",
    "# remove() raises an error if the element is not found\n",
    "# discard() does not raise an error if the element is not found\n",
    "it_companies.discard(\"IBM\")  # No error even if \"IBM\" is not in the set\n",
    "print(\"IT companies after using discard:\", it_companies)\n"
   ]
  },
  {
   "cell_type": "code",
   "execution_count": 5,
   "metadata": {},
   "outputs": [
    {
     "name": "stdout",
     "output_type": "stream",
     "text": [
      "Union of A and B: {19, 20, 22, 24, 25, 26, 27, 28}\n",
      "Intersection of A and B: {25, 19, 20, 22}\n",
      "Is A a subset of B? False\n",
      "Are A and B disjoint? False\n",
      "A joined with B: {19, 20, 22, 24, 25, 26, 27, 28}\n",
      "B joined with A: {19, 20, 22, 24, 25, 26, 27, 28}\n",
      "Symmetric difference: {24, 26, 27, 28}\n",
      "A and B deleted.\n"
     ]
    }
   ],
   "source": [
    "# Creating sets\n",
    "A = {19, 22, 24, 20, 25, 26}\n",
    "B = {19, 22, 20, 25, 28, 27}\n",
    "\n",
    "# 1. Join A and B\n",
    "A_union_B = A.union(B)\n",
    "print(\"Union of A and B:\", A_union_B)\n",
    "\n",
    "# 2. Find intersection of A and B\n",
    "A_intersection_B = A.intersection(B)\n",
    "print(\"Intersection of A and B:\", A_intersection_B)\n",
    "\n",
    "# 3. Is A a subset of B?\n",
    "print(\"Is A a subset of B?\", A.issubset(B))\n",
    "\n",
    "# 4. Are A and B disjoint sets?\n",
    "print(\"Are A and B disjoint?\", A.isdisjoint(B))\n",
    "\n",
    "# 5. Join A with B and B with A (same as union)\n",
    "print(\"A joined with B:\", A.union(B))\n",
    "print(\"B joined with A:\", B.union(A))\n",
    "\n",
    "# 6. Symmetric difference between A and B\n",
    "print(\"Symmetric difference:\", A.symmetric_difference(B))\n",
    "\n",
    "# 7. Delete the sets completely\n",
    "del A, B\n",
    "print(\"A and B deleted.\" )\n"
   ]
  },
  {
   "cell_type": "code",
   "execution_count": 6,
   "metadata": {},
   "outputs": [
    {
     "name": "stdout",
     "output_type": "stream",
     "text": [
      "Length of ages list: 8\n",
      "Length of ages set: 5\n",
      "Which one is bigger? List\n",
      "Number of unique words: 10\n",
      "Unique words: {'and', 'a', 'love', 'teacher', 'to', 'am', 'inspire', 'teach', 'I', 'people'}\n"
     ]
    }
   ],
   "source": [
    "# 1. Convert ages to set and compare lengths\n",
    "ages_list = [22, 19, 24, 25, 26, 24, 25, 24]\n",
    "ages_set = set(ages_list)\n",
    "\n",
    "print(\"Length of ages list:\", len(ages_list))\n",
    "print(\"Length of ages set:\", len(ages_set))\n",
    "print(\"Which one is bigger?\", \"List\" if len(ages_list) > len(ages_set) else \"Set\")\n",
    "\n",
    "# 2. Difference between string, list, tuple, and set\n",
    "\"\"\"\n",
    "- String: A sequence of characters, immutable.\n",
    "- List: Ordered, mutable, allows duplicates.\n",
    "- Tuple: Ordered, immutable, allows duplicates.\n",
    "- Set: Unordered, mutable, does not allow duplicates.\n",
    "\"\"\"\n",
    "\n",
    "# 3. Count unique words in a sentence\n",
    "sentence = \"I am a teacher and I love to inspire and teach people.\"\n",
    "words = set(sentence.replace(\".\", \"\").split())  # Remove punctuation and split words\n",
    "print(\"Number of unique words:\", len(words))\n",
    "print(\"Unique words:\", words)\n"
   ]
  }
 ],
 "metadata": {
  "kernelspec": {
   "display_name": "Python 3",
   "language": "python",
   "name": "python3"
  },
  "language_info": {
   "codemirror_mode": {
    "name": "ipython",
    "version": 3
   },
   "file_extension": ".py",
   "mimetype": "text/x-python",
   "name": "python",
   "nbconvert_exporter": "python",
   "pygments_lexer": "ipython3",
   "version": "3.12.6"
  }
 },
 "nbformat": 4,
 "nbformat_minor": 2
}
