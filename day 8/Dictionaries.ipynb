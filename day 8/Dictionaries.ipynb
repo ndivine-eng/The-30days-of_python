{
 "cells": [
  {
   "cell_type": "code",
   "execution_count": 4,
   "metadata": {},
   "outputs": [
    {
     "name": "stdout",
     "output_type": "stream",
     "text": [
      "Dog dictionary: {'name': 'Buddy', 'color': 'Brown', 'breed': 'Golden Retriever', 'legs': 4, 'age': 3}\n",
      "Length of student dictionary: 9\n",
      "Skills: ['Python', 'Flutter']\n",
      "Data type of skills: <class 'list'>\n",
      "Updated skills: ['Python', 'Flutter', 'HTML', 'CSS']\n",
      "Dictionary keys: ['first_name', 'last_name', 'gender', 'age', 'marital_status', 'skills', 'country', 'city', 'address']\n",
      "Dictionary values: ['Nubuhoro', 'Divine', 'Female', 22, 'Single', ['Python', 'Flutter', 'HTML', 'CSS'], 'Rwanda', 'Kigali', '123 Street, Gihundwe']\n",
      "Student dictionary as list of tuples: [('first_name', 'Nubuhoro'), ('last_name', 'Divine'), ('gender', 'Female'), ('age', 22), ('marital_status', 'Single'), ('skills', ['Python', 'Flutter', 'HTML', 'CSS']), ('country', 'Rwanda'), ('city', 'Kigali'), ('address', '123 Street, Gihundwe')]\n",
      "Student dictionary after deletion: {'first_name': 'Nubuhoro', 'last_name': 'Divine', 'gender': 'Female', 'age': 22, 'skills': ['Python', 'Flutter', 'HTML', 'CSS'], 'country': 'Rwanda', 'city': 'Kigali', 'address': '123 Street, Gihundwe'}\n",
      "Dog dictionary deleted.\n"
     ]
    }
   ],
   "source": [
    "# 1. Create an empty dictionary called dog\n",
    "dog = {}\n",
    "\n",
    "# 2. Add name, color, breed, legs, age to the dog dictionary\n",
    "dog[\"name\"] = \"Buddy\"\n",
    "dog[\"color\"] = \"Brown\"\n",
    "dog[\"breed\"] = \"Golden Retriever\"\n",
    "dog[\"legs\"] = 4\n",
    "dog[\"age\"] = 3\n",
    "\n",
    "print(\"Dog dictionary:\", dog)\n",
    "\n",
    "# 3. Create a student dictionary\n",
    "student = {\n",
    "    \"first_name\": \"Nubuhoro\",\n",
    "    \"last_name\": \"Divine\",\n",
    "    \"gender\": \"Female\",\n",
    "    \"age\": 22,\n",
    "    \"marital_status\": \"Single\",\n",
    "    \"skills\": [\"Python\", \"Flutter\"],\n",
    "    \"country\": \"Rwanda\",\n",
    "    \"city\": \"Kigali\",\n",
    "    \"address\": \"123 Street, Gihundwe\"\n",
    "}\n",
    "\n",
    "# 4. Get the length of the student dictionary\n",
    "print(\"Length of student dictionary:\", len(student))\n",
    "\n",
    "# 5. Get the value of skills and check the data type\n",
    "skills_value = student[\"skills\"]\n",
    "print(\"Skills:\", skills_value)\n",
    "print(\"Data type of skills:\", type(skills_value))  # Should be a list\n",
    "\n",
    "# 6. Modify the skills values by adding one or two skills\n",
    "student[\"skills\"].extend([\"HTML\", \"CSS\"])\n",
    "print(\"Updated skills:\", student[\"skills\"])\n",
    "\n",
    "# 7. Get the dictionary keys as a list\n",
    "keys_list = list(student.keys())\n",
    "print(\"Dictionary keys:\", keys_list)\n",
    "\n",
    "# 8. Get the dictionary values as a list\n",
    "values_list = list(student.values())\n",
    "print(\"Dictionary values:\", values_list)\n",
    "\n",
    "# 9. Change the dictionary to a list of tuples using items() method\n",
    "student_tuples = list(student.items())\n",
    "print(\"Student dictionary as list of tuples:\", student_tuples)\n",
    "\n",
    "# 10. Delete one of the items in the dictionary (e.g., marital_status)\n",
    "del student[\"marital_status\"]\n",
    "print(\"Student dictionary after deletion:\", student)\n",
    "\n",
    "# 11. Delete one of the dictionaries (e.g., dog)\n",
    "del dog\n",
    "print(\"Dog dictionary deleted.\")\n"
   ]
  }
 ],
 "metadata": {
  "kernelspec": {
   "display_name": "Python 3",
   "language": "python",
   "name": "python3"
  },
  "language_info": {
   "codemirror_mode": {
    "name": "ipython",
    "version": 3
   },
   "file_extension": ".py",
   "mimetype": "text/x-python",
   "name": "python",
   "nbconvert_exporter": "python",
   "pygments_lexer": "ipython3",
   "version": "3.12.6"
  }
 },
 "nbformat": 4,
 "nbformat_minor": 2
}
