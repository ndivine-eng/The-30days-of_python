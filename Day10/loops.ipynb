{
 "cells": [
  {
   "cell_type": "markdown",
   "metadata": {},
   "source": [
    "1. Iterate 0 to 10 using for loop and while loop"
   ]
  },
  {
   "cell_type": "code",
   "execution_count": 2,
   "metadata": {},
   "outputs": [
    {
     "name": "stdout",
     "output_type": "stream",
     "text": [
      "0 1 2 3 4 5 6 7 8 9 10 \n",
      "0 1 2 3 4 5 6 7 8 9 10 \n"
     ]
    }
   ],
   "source": [
    "# Using for loop to iterate from 0 to 10\n",
    "for i in range(11):  # range(11) generates numbers from 0 to 10\n",
    "    print(i, end=\" \")  # Print numbers in one line\n",
    "print()  # Print newline\n",
    "\n",
    "# Using while loop to iterate from 0 to 10\n",
    "i = 0  # Initialize counter\n",
    "while i <= 10:\n",
    "    print(i, end=\" \")  # Print numbers in one line\n",
    "    i += 1  # Increment counter\n",
    "print()  # Print newline\n"
   ]
  },
  {
   "cell_type": "markdown",
   "metadata": {},
   "source": [
    "2. Iterate 10 to 0 using for loop and while loop"
   ]
  },
  {
   "cell_type": "code",
   "execution_count": 3,
   "metadata": {},
   "outputs": [
    {
     "name": "stdout",
     "output_type": "stream",
     "text": [
      "10 9 8 7 6 5 4 3 2 1 0 \n",
      "10 9 8 7 6 5 4 3 2 1 0 \n"
     ]
    }
   ],
   "source": [
    "# Using for loop to iterate from 10 to 0\n",
    "for i in range(10, -1, -1):  # Step decreases by 1 each time\n",
    "    print(i, end=\" \")\n",
    "print()\n",
    "\n",
    "# Using while loop to iterate from 10 to 0\n",
    "i = 10  # Initialize counter\n",
    "while i >= 0:\n",
    "    print(i, end=\" \")\n",
    "    i -= 1  # Decrement counter\n",
    "print()\n"
   ]
  },
  {
   "cell_type": "markdown",
   "metadata": {},
   "source": [
    "3. Print a triangle pattern"
   ]
  },
  {
   "cell_type": "code",
   "execution_count": 5,
   "metadata": {},
   "outputs": [
    {
     "name": "stdout",
     "output_type": "stream",
     "text": [
      "*#*\n",
      "*#**#*\n",
      "*#**#**#*\n",
      "*#**#**#**#*\n",
      "*#**#**#**#**#*\n",
      "*#**#**#**#**#**#*\n",
      "*#**#**#**#**#**#**#*\n"
     ]
    }
   ],
   "source": [
    "# Using for loop to create a right-angled triangle\n",
    "for i in range(1, 8):  # Loop runs 7 times\n",
    "    print(\"*#*\" * i)  # Print '#' repeated i times\n"
   ]
  },
  {
   "cell_type": "markdown",
   "metadata": {},
   "source": [
    "4. Print a square pattern using nested loops"
   ]
  },
  {
   "cell_type": "code",
   "execution_count": 6,
   "metadata": {},
   "outputs": [
    {
     "name": "stdout",
     "output_type": "stream",
     "text": [
      "# # # # # # # #\n",
      "# # # # # # # #\n",
      "# # # # # # # #\n",
      "# # # # # # # #\n",
      "# # # # # # # #\n",
      "# # # # # # # #\n",
      "# # # # # # # #\n",
      "# # # # # # # #\n"
     ]
    }
   ],
   "source": [
    "# Using nested loops to print a 8x8 grid\n",
    "for i in range(8):  # Outer loop for rows\n",
    "    print(\"# # # # # # # #\")  # Print row of hashes\n"
   ]
  },
  {
   "cell_type": "markdown",
   "metadata": {},
   "source": [
    "Print multiplication table (0 to 10)"
   ]
  },
  {
   "cell_type": "code",
   "execution_count": 7,
   "metadata": {},
   "outputs": [
    {
     "name": "stdout",
     "output_type": "stream",
     "text": [
      "0 x 0 = 0\n",
      "1 x 1 = 1\n",
      "2 x 2 = 4\n",
      "3 x 3 = 9\n",
      "4 x 4 = 16\n",
      "5 x 5 = 25\n",
      "6 x 6 = 36\n",
      "7 x 7 = 49\n",
      "8 x 8 = 64\n",
      "9 x 9 = 81\n",
      "10 x 10 = 100\n"
     ]
    }
   ],
   "source": [
    "# Loop to print squares of numbers from 0 to 10\n",
    "for i in range(11):  # Loop runs from 0 to 10\n",
    "    print(f\"{i} x {i} = {i * i}\")  # Print multiplication result\n"
   ]
  },
  {
   "cell_type": "markdown",
   "metadata": {},
   "source": [
    "6. Iterate through a list and print items"
   ]
  },
  {
   "cell_type": "code",
   "execution_count": 8,
   "metadata": {},
   "outputs": [
    {
     "name": "stdout",
     "output_type": "stream",
     "text": [
      "Python\n",
      "Numpy\n",
      "Pandas\n",
      "Django\n",
      "Flask\n"
     ]
    }
   ],
   "source": [
    "# List of programming languages\n",
    "languages = ['Python', 'Numpy', 'Pandas', 'Django', 'Flask']\n",
    "\n",
    "# Using for loop to print each item in the list\n",
    "for lang in languages:\n",
    "    print(lang)\n"
   ]
  },
  {
   "cell_type": "markdown",
   "metadata": {},
   "source": [
    "7. Print even numbers from 0 to 100"
   ]
  },
  {
   "cell_type": "code",
   "execution_count": 9,
   "metadata": {},
   "outputs": [
    {
     "name": "stdout",
     "output_type": "stream",
     "text": [
      "0 2 4 6 8 10 12 14 16 18 20 22 24 26 28 30 32 34 36 38 40 42 44 46 48 50 52 54 56 58 60 62 64 66 68 70 72 74 76 78 80 82 84 86 88 90 92 94 96 98 100 \n"
     ]
    }
   ],
   "source": [
    "# Using for loop with step 2 to print even numbers\n",
    "for i in range(0, 101, 2):  # Start at 0, end at 100, increment by 2\n",
    "    print(i, end=\" \")\n",
    "print()\n"
   ]
  },
  {
   "cell_type": "markdown",
   "metadata": {},
   "source": [
    "8. Print odd numbers from 0 to 100"
   ]
  },
  {
   "cell_type": "code",
   "execution_count": 10,
   "metadata": {},
   "outputs": [
    {
     "name": "stdout",
     "output_type": "stream",
     "text": [
      "1 3 5 7 9 11 13 15 17 19 21 23 25 27 29 31 33 35 37 39 41 43 45 47 49 51 53 55 57 59 61 63 65 67 69 71 73 75 77 79 81 83 85 87 89 91 93 95 97 99 \n"
     ]
    }
   ],
   "source": [
    "# Using for loop with step 2 to print odd numbers\n",
    "for i in range(1, 101, 2):  # Start at 1, end at 100, increment by 2\n",
    "    print(i, end=\" \")\n",
    "print()\n"
   ]
  },
  {
   "cell_type": "markdown",
   "metadata": {},
   "source": [
    "Exercises: Level 2\n",
    "1. Sum of all numbers from 0 to 100"
   ]
  },
  {
   "cell_type": "code",
   "execution_count": 11,
   "metadata": {},
   "outputs": [
    {
     "name": "stdout",
     "output_type": "stream",
     "text": [
      "The sum of all numbers is 5050\n"
     ]
    }
   ],
   "source": [
    "# Calculate sum of numbers from 0 to 100 using sum() function\n",
    "total_sum = sum(range(101))  # sum() adds all numbers in range(101)\n",
    "print(f\"The sum of all numbers is {total_sum}\")\n"
   ]
  },
  {
   "cell_type": "code",
   "execution_count": 12,
   "metadata": {},
   "outputs": [
    {
     "name": "stdout",
     "output_type": "stream",
     "text": [
      "The sum of all evens is 2550. And the sum of all odds is 2500.\n"
     ]
    }
   ],
   "source": [
    "# 2. Sum of all evens and sum of all odds from 0 to 100\n",
    "\n",
    "# Calculate sum of even numbers from 0 to 100\n",
    "even_sum = sum(i for i in range(101) if i % 2 == 0)\n",
    "\n",
    "# Calculate sum of odd numbers from 0 to 100\n",
    "odd_sum = sum(i for i in range(101) if i % 2 != 0)\n",
    "\n",
    "# Print results\n",
    "print(f\"The sum of all evens is {even_sum}. And the sum of all odds is {odd_sum}.\")\n"
   ]
  },
  {
   "cell_type": "markdown",
   "metadata": {},
   "source": [
    "Exercises: Level 3\n",
    "1. Extract countries containing \"land\" from countries.py"
   ]
  },
  {
   "cell_type": "code",
   "execution_count": 16,
   "metadata": {},
   "outputs": [
    {
     "name": "stdout",
     "output_type": "stream",
     "text": [
      "Countries containing 'land': []\n"
     ]
    }
   ],
   "source": [
    "# List of countries with population and languages\n",
    "countries_data = [\n",
    "    {\"name\": \"China\", \"population\": 1444216107, \"languages\": [\"Mandarin\"]},\n",
    "    {\"name\": \"India\", \"population\": 1393409038, \"languages\": [\"Hindi\", \"English\"]},\n",
    "    {\"name\": \"United States\", \"population\": 331893745, \"languages\": [\"English\"]},\n",
    "    {\"name\": \"Indonesia\", \"population\": 273523621, \"languages\": [\"Indonesian\"]},\n",
    "    {\"name\": \"Pakistan\", \"population\": 220892331, \"languages\": [\"Urdu\", \"English\"]},\n",
    "    {\"name\": \"Brazil\", \"population\": 212559409, \"languages\": [\"Portuguese\"]},\n",
    "    {\"name\": \"Nigeria\", \"population\": 206139587, \"languages\": [\"English\", \"Hausa\", \"Igbo\", \"Yoruba\"]},\n",
    "    {\"name\": \"Bangladesh\", \"population\": 166303498, \"languages\": [\"Bengali\"]},\n",
    "    {\"name\": \"Russia\", \"population\": 145912025, \"languages\": [\"Russian\"]},\n",
    "    {\"name\": \"Mexico\", \"population\": 128932753, \"languages\": [\"Spanish\"]},\n",
    "]\n",
    "\n",
    "# Filter countries that contain \"land\" in their name\n",
    "land_countries = [country[\"name\"] for country in countries_data if \"land\" in country[\"name\"]]\n",
    "\n",
    "# Print the filtered list\n",
    "print(\"Countries containing 'land':\", land_countries)\n"
   ]
  },
  {
   "cell_type": "code",
   "execution_count": 15,
   "metadata": {},
   "outputs": [
    {
     "name": "stdout",
     "output_type": "stream",
     "text": [
      "Reversed fruit list: ['lemon', 'mango', 'orange', 'banana']\n",
      "Total number of languages: 12\n",
      "10 most spoken languages: [('English', 4), ('Mandarin', 1), ('Hindi', 1), ('Indonesian', 1), ('Urdu', 1), ('Portuguese', 1), ('Hausa', 1), ('Igbo', 1), ('Yoruba', 1), ('Bengali', 1)]\n",
      "10 most populated countries:\n",
      "China: 1444216107\n",
      "India: 1393409038\n",
      "United States: 331893745\n",
      "Indonesia: 273523621\n",
      "Pakistan: 220892331\n",
      "Brazil: 212559409\n",
      "Nigeria: 206139587\n",
      "Bangladesh: 166303498\n",
      "Russia: 145912025\n",
      "Mexico: 128932753\n"
     ]
    }
   ],
   "source": [
    "# 1. Reverse the fruit list using a loop\n",
    "\n",
    "# List of fruits\n",
    "fruits = ['banana', 'orange', 'mango', 'lemon']\n",
    "\n",
    "# Initialize empty list to store reversed order\n",
    "reversed_fruits = []\n",
    "\n",
    "# Use loop to iterate from last item to first\n",
    "for i in range(len(fruits) - 1, -1, -1):\n",
    "    reversed_fruits.append(fruits[i])  # Append items in reverse order\n",
    "\n",
    "# Print reversed list\n",
    "print(\"Reversed fruit list:\", reversed_fruits)\n",
    "\n",
    "# 2. Define countries_data within the script instead of importing it\n",
    "countries_data = [\n",
    "    {\"name\": \"China\", \"population\": 1444216107, \"languages\": [\"Mandarin\"]},\n",
    "    {\"name\": \"India\", \"population\": 1393409038, \"languages\": [\"Hindi\", \"English\"]},\n",
    "    {\"name\": \"United States\", \"population\": 331893745, \"languages\": [\"English\"]},\n",
    "    {\"name\": \"Indonesia\", \"population\": 273523621, \"languages\": [\"Indonesian\"]},\n",
    "    {\"name\": \"Pakistan\", \"population\": 220892331, \"languages\": [\"Urdu\", \"English\"]},\n",
    "    {\"name\": \"Brazil\", \"population\": 212559409, \"languages\": [\"Portuguese\"]},\n",
    "    {\"name\": \"Nigeria\", \"population\": 206139587, \"languages\": [\"English\", \"Hausa\", \"Igbo\", \"Yoruba\"]},\n",
    "    {\"name\": \"Bangladesh\", \"population\": 166303498, \"languages\": [\"Bengali\"]},\n",
    "    {\"name\": \"Russia\", \"population\": 145912025, \"languages\": [\"Russian\"]},\n",
    "    {\"name\": \"Mexico\", \"population\": 128932753, \"languages\": [\"Spanish\"]},\n",
    "]\n",
    "\n",
    "# 3. Find the total number of unique languages\n",
    "languages = set()\n",
    "\n",
    "# Iterate over country data and add languages to the set\n",
    "for country in countries_data:\n",
    "    languages.update(country[\"languages\"])\n",
    "\n",
    "# Print the total count of unique languages\n",
    "print(\"Total number of languages:\", len(languages))\n",
    "\n",
    "# 4. Find the 10 most spoken languages\n",
    "from collections import Counter  # Import Counter for counting occurrences\n",
    "\n",
    "# Initialize Counter object\n",
    "language_counter = Counter()\n",
    "\n",
    "# Count occurrences of each language in the dataset\n",
    "for country in countries_data:\n",
    "    language_counter.update(country[\"languages\"])\n",
    "\n",
    "# Get 10 most common languages\n",
    "most_spoken = language_counter.most_common(10)\n",
    "\n",
    "# Print the result\n",
    "print(\"10 most spoken languages:\", most_spoken)\n",
    "\n",
    "# 5. Find the 10 most populated countries\n",
    "\n",
    "# Sort countries by population in descending order and get top 10\n",
    "most_populated = sorted(countries_data, key=lambda x: x[\"population\"], reverse=True)[:10]\n",
    "\n",
    "# Print country names and their populations\n",
    "print(\"10 most populated countries:\")\n",
    "for country in most_populated:\n",
    "    print(f\"{country['name']}: {country['population']}\")\n"
   ]
  }
 ],
 "metadata": {
  "kernelspec": {
   "display_name": "Python 3",
   "language": "python",
   "name": "python3"
  },
  "language_info": {
   "codemirror_mode": {
    "name": "ipython",
    "version": 3
   },
   "file_extension": ".py",
   "mimetype": "text/x-python",
   "name": "python",
   "nbconvert_exporter": "python",
   "pygments_lexer": "ipython3",
   "version": "3.12.6"
  }
 },
 "nbformat": 4,
 "nbformat_minor": 2
}
