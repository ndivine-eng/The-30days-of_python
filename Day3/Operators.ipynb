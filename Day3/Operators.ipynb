{
 "cells": [
  {
   "cell_type": "code",
   "execution_count": 3,
   "metadata": {},
   "outputs": [
    {
     "name": "stdout",
     "output_type": "stream",
     "text": [
      "True\n",
      "True\n",
      "False\n",
      "True\n",
      "True\n",
      "False\n",
      "True\n",
      "False\n",
      "True\n",
      "True\n",
      "False\n",
      "True\n",
      "True\n",
      "False\n"
     ]
    }
   ],
   "source": [
    "# Comparison operators \n",
    "print(3 > 2)     # True, because 3 is greater than 2\n",
    "print(3 >= 2)    # True, because 3 is greater than 2\n",
    "print(3 < 2)     # False,  because 3 is greater than 2\n",
    "print(2 < 3)     # True, because 2 is less than 3\n",
    "print(2 <= 3)    # True, because 2 is less than 3\n",
    "print(3 == 2)    # False, because 3 is not equal to 2\n",
    "print(3 != 2)    # True, because 3 is not equal to 2\n",
    "print(len('mango') == len('avocado'))  # False\n",
    "print(len('mango') != len('avocado'))  # True\n",
    "print(len('mango') < len('avocado'))   # True\n",
    "print(len('milk') != len('meat'))      # False\n",
    "print(len('milk') == len('meat'))      # True\n",
    "print(len('tomato') == len('potato'))  # True\n",
    "print(len('python') > len('dragon'))   # False\n",
    "\n",
    "\n"
   ]
  },
  {
   "cell_type": "code",
   "execution_count": 4,
   "metadata": {},
   "outputs": [
    {
     "name": "stdout",
     "output_type": "stream",
     "text": [
      "True == True:  True\n",
      "True == False:  False\n",
      "False == False: True\n",
      "1 is 1 True\n",
      "1 is not 2 True\n",
      "A in Asabeneh True\n",
      "B in Asabeneh False\n",
      "True\n",
      "a in an: True\n",
      "4 is 2 ** 2: True\n"
     ]
    },
    {
     "name": "stderr",
     "output_type": "stream",
     "text": [
      "<>:7: SyntaxWarning: \"is\" with 'int' literal. Did you mean \"==\"?\n",
      "<>:8: SyntaxWarning: \"is not\" with 'int' literal. Did you mean \"!=\"?\n",
      "<>:13: SyntaxWarning: \"is\" with 'int' literal. Did you mean \"==\"?\n",
      "<>:7: SyntaxWarning: \"is\" with 'int' literal. Did you mean \"==\"?\n",
      "<>:8: SyntaxWarning: \"is not\" with 'int' literal. Did you mean \"!=\"?\n",
      "<>:13: SyntaxWarning: \"is\" with 'int' literal. Did you mean \"==\"?\n",
      "C:\\Users\\PC\\AppData\\Local\\Temp\\ipykernel_15732\\4268987233.py:7: SyntaxWarning: \"is\" with 'int' literal. Did you mean \"==\"?\n",
      "  print('1 is 1', 1 is 1)                   # True - because the data values are the same\n",
      "C:\\Users\\PC\\AppData\\Local\\Temp\\ipykernel_15732\\4268987233.py:8: SyntaxWarning: \"is not\" with 'int' literal. Did you mean \"!=\"?\n",
      "  print('1 is not 2', 1 is not 2)           # True - because 1 is not 2\n",
      "C:\\Users\\PC\\AppData\\Local\\Temp\\ipykernel_15732\\4268987233.py:13: SyntaxWarning: \"is\" with 'int' literal. Did you mean \"==\"?\n",
      "  print('4 is 2 ** 2:', 4 is 2 ** 2)   # True\n"
     ]
    }
   ],
   "source": [
    "# Comparing something gives either a True or False\n",
    "\n",
    "print('True == True: ', True == True)\n",
    "print('True == False: ', True == False)\n",
    "print('False == False:', False == False)\n",
    "\n",
    "print('1 is 1', 1 is 1)                   # True - because the data values are the same\n",
    "print('1 is not 2', 1 is not 2)           # True - because 1 is not 2\n",
    "print('A in Asabeneh', 'A' in 'Asabeneh') # True - A found in the string\n",
    "print('B in Asabeneh', 'B' in 'Asabeneh') # False - there is no uppercase B\n",
    "print('coding' in 'coding for all') # True - because coding for all has the word coding\n",
    "print('a in an:', 'a' in 'an')      # True\n",
    "print('4 is 2 ** 2:', 4 is 2 ** 2)   # True"
   ]
  },
  {
   "cell_type": "code",
   "execution_count": 6,
   "metadata": {},
   "outputs": [
    {
     "name": "stdout",
     "output_type": "stream",
     "text": [
      "True\n",
      "False\n",
      "False\n",
      "True and True:  True\n",
      "True\n",
      "True\n",
      "False\n",
      "True or False: True\n",
      "False\n",
      "False\n",
      "True\n",
      "True\n",
      "False\n"
     ]
    }
   ],
   "source": [
    "# Logical operations\n",
    "\n",
    "print(3 > 2 and 4 > 3) # True - because both statements are true\n",
    "print(3 > 2 and 4 < 3) # False - because the second statement is false\n",
    "print(3 < 2 and 4 < 3) # False - because both statements are false\n",
    "print('True and True: ', True and True)\n",
    "print(3 > 2 or 4 > 3)  # True - because both statements are true\n",
    "print(3 > 2 or 4 < 3)  # True - because one of the statements is true\n",
    "print(3 < 2 or 4 < 3)  # False - because both statements are false\n",
    "print('True or False:', True or False)\n",
    "print(not 3 > 2)     # False - because 3 > 2 is true, then not True gives False\n",
    "print(not True)      # False - Negation, the not operator turns true to false\n",
    "print(not False)     # True\n",
    "print(not not True)  # True\n",
    "print(not not False) # False\n"
   ]
  },
  {
   "cell_type": "code",
   "execution_count": null,
   "metadata": {},
   "outputs": [
    {
     "name": "stdout",
     "output_type": "stream",
     "text": [
      "The area of triangle is: 1504.0\n",
      "The perimeter of triangle is: 114.0\n"
     ]
    }
   ],
   "source": [
    "#EXERCISES\n",
    "#Declare your age as integer variable\n",
    "Age=20\n",
    "#Declare your height as a float variable\n",
    "Height= 1.75\n",
    "#Declare a variable that store a complex number\n",
    "complex_number = 3 + 4j \n",
    "#Write a script that prompts the user to enter base and height of the triangle  \n",
    "Base= float(input(\"Enter the base of triangle: \"))\n",
    "Height=float(input(\"Enter the height of triangle:\"))\n",
    "\n",
    "# calculate an area of this triangle (area = 0.5 x b x h).\n",
    "Area_of_triangle= 0.5 * Base * Height\n",
    "print(\"The area of triangle is:\",Area_of_triangle)\n",
    "\n",
    "# Write a script that prompts the user to enter side a, side b, and side c of the triangle. Calculate the perimeter of the triangle (perimeter = a + b + c).\n",
    "\n",
    "Side_a=float(input(\"Enter the first side of triangle: \"))\n",
    "Side_b=float(input(\"Enter the second side of triangle: \"))\n",
    "Side_c=float(input(\"Enter the third side of triangle: \"))\n",
    "Perimeter_of_triangle= Side_a + Side_b + Side_c\n",
    "print(\"The perimeter of triangle is:\",Perimeter_of_triangle)\n",
    "\n"
   ]
  },
  {
   "cell_type": "code",
   "execution_count": 2,
   "metadata": {},
   "outputs": [
    {
     "name": "stdout",
     "output_type": "stream",
     "text": [
      "The area of rectangle is: 25.0\n",
      "The perimeter of rectangle is: 20.0\n",
      "The area of circle is: 78.5\n",
      "The circumference of circle is: 31.400000000000002\n",
      "Slope of y = 2x - 2: 2\n",
      "X-intercept: 1.0\n",
      "Y-intercept: -2\n",
      "Slope between (2,2) and (6,10): 2.0\n",
      "Euclidean Distance: 8.94427190999916\n",
      "Are slopes equal? True\n",
      "y at x=-6 is 9\n",
      "y at x=-3 is 0\n",
      "y at x=0 is 9\n",
      "y at x=3 is 36\n",
      "y is zero at x = -3.0\n",
      "True\n",
      "on' in 'python' and 'on' in 'dragon: True\n",
      "'jargon' found in sentence? True\n",
      "There is no 'on' in both python and dragon: False\n",
      "Length of 'python' as float: 6.0\n",
      "Length of 'python' as string: 6.0\n",
      "Is the number even? False\n",
      "7 // 3 == int(2.7)? True\n",
      "Type of '10' == Type of 10? False\n",
      "Cannot convert '9.8' directly to an integer!\n"
     ]
    }
   ],
   "source": [
    "import math\n",
    "#Get length and width of a rectangle using prompt. Calculate its area (area = length x width) and perimeter (perimeter = 2 x (length + width))\n",
    "Length=float(input(\"Enter the length of rectangle: \"))\n",
    "Width=float(input(\"Enter the width of rectangle: \"))\n",
    "Area_of_rectangle= Length * Width\n",
    "Perimeter_of_rectangle= 2 * (Length + Width)\n",
    "print(\"The area of rectangle is:\",Area_of_rectangle)\n",
    "print(\"The perimeter of rectangle is:\",Perimeter_of_rectangle)\n",
    "#Get radius of a circle using prompt. Calculate the area (area = pi x r x r) and circumference (c = 2 x pi x r) where pi = 3.14.\n",
    "Radius=float(input(\"Enter the radius of circle: \"))\n",
    "Area_of_circle= 3.14 * Radius * Radius\n",
    "Circumference_of_circle= 2 * 3.14 * Radius\n",
    "print(\"The area of circle is:\",Area_of_circle)\n",
    "print(\"The circumference of circle is:\",Circumference_of_circle)\n",
    "# 3. Calculate slope, x-intercept, and y-intercept of y = 2x - 2\n",
    "slope = 2  # The coefficient of x in y = 2x - 2\n",
    "x_intercept = -(-2) / 2  # Setting y = 0 and solving for x\n",
    "y_intercept = -2  # The constant term in the equation\n",
    "\n",
    "print(\"Slope of y = 2x - 2:\", slope)\n",
    "print(\"X-intercept:\", x_intercept)\n",
    "print(\"Y-intercept:\", y_intercept)\n",
    "\n",
    "# 4. Find the slope and Euclidean distance between (2,2) and (6,10)\n",
    "x1, y1 = 2, 2\n",
    "x2, y2 = 6, 10\n",
    "\n",
    "slope_2 = (y2 - y1) / (x2 - x1)  # Slope formula (m = (y2-y1) / (x2-x1))\n",
    "euclidean_distance = math.sqrt((x2 - x1)**2 + (y2 - y1)**2)\n",
    "\n",
    "print(\"Slope between (2,2) and (6,10):\", slope_2)\n",
    "print(\"Euclidean Distance:\", euclidean_distance)\n",
    "\n",
    "# 5. Compare slopes from (3) and (4)\n",
    "print(\"Are slopes equal?\", slope == slope_2)\n",
    "\n",
    "# 6. Calculate value of y = x^2 + 6x + 9 and find when y = 0\n",
    "def find_y(x):\n",
    "    return x**2 + 6*x + 9\n",
    "\n",
    "x_values = [-6, -3, 0, 3]\n",
    "for x in x_values:\n",
    "    print(f\"y at x={x} is {find_y(x)}\")\n",
    "\n",
    "# Finding when y = 0 (solving x^2 + 6x + 9 = 0)\n",
    "x_zero = -6 / 2  # Factorized: (x+3)(x+3) => x=-3\n",
    "print(\"y is zero at x =\", x_zero)\n",
    "#Find the length of 'python' and 'dragon' and make a falsy comparison statement.\n",
    "print(len('python') == len('dragon'))\n",
    "#Use and operator to check if 'on' is found in both 'python' and 'dragon'\n",
    "print (\"on' in 'python' and 'on' in 'dragon:\",'on' in 'python' and 'on' in 'dragon')\n",
    "# 9. Check if 'jargon' is in the sentence\n",
    "sentence = \"I hope this course is not full of jargon.\"\n",
    "print(\"'jargon' found in sentence?\", 'jargon' in sentence)\n",
    "\n",
    "# 10. Check if there is no 'on' in both words\n",
    "print(\"There is no 'on' in both python and dragon:\", not ('on' in \"python\" and 'on' in \"dragon\"))\n",
    "\n",
    "# 11. Convert length of 'python' to float and then to string\n",
    "length_python = len(\"python\")\n",
    "float_length = float(length_python)\n",
    "str_length = str(float_length)\n",
    "\n",
    "print(\"Length of 'python' as float:\", float_length)\n",
    "print(\"Length of 'python' as string:\", str_length)\n",
    "\n",
    "# 12. Check if a number is even\n",
    "num = int(input(\"Enter a number to check if it's even: \"))\n",
    "print(\"Is the number even?\", num % 2 == 0)\n",
    "\n",
    "# 13. Check floor division of 7 by 3 equals int(2.7)\n",
    "print(\"7 // 3 == int(2.7)?\", 7 // 3 == int(2.7))\n",
    "\n",
    "# 14. Check type of '10' and 10\n",
    "print(\"Type of '10' == Type of 10?\", type('10') == type(10))\n",
    "\n",
    "# 15. Check if int('9.8') == 10 (this will cause an error)\n",
    "try:\n",
    "    print(\"int('9.8') == 10?\", int('9.8') == 10)\n",
    "except ValueError:\n",
    "    print(\"Cannot convert '9.8' directly to an integer!\")\n",
    "\n",
    "# 16. Calculate pay using hours and rate per hour\n",
    "hours = float(input(\"Enter hours worked: \"))\n",
    "rate_per_hour = float(input(\"Enter rate per hour: \"))\n"
   ]
  }
 ],
 "metadata": {
  "kernelspec": {
   "display_name": "Python 3",
   "language": "python",
   "name": "python3"
  },
  "language_info": {
   "codemirror_mode": {
    "name": "ipython",
    "version": 3
   },
   "file_extension": ".py",
   "mimetype": "text/x-python",
   "name": "python",
   "nbconvert_exporter": "python",
   "pygments_lexer": "ipython3",
   "version": "3.12.6"
  }
 },
 "nbformat": 4,
 "nbformat_minor": 2
}
