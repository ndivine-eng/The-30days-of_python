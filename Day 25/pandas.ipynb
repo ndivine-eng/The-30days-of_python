{
 "cells": [
  {
   "cell_type": "code",
   "execution_count": 6,
   "metadata": {},
   "outputs": [
    {
     "name": "stdout",
     "output_type": "stream",
     "text": [
      "Error: The file 'data/hacker_news.csv' was not found. Please check the path and try again.\n"
     ]
    }
   ],
   "source": [
    "import pandas as pd\n",
    "\n",
    "# Define the file path\n",
    "file_path = \"data/hacker_news.csv\"\n",
    "\n",
    "try:\n",
    "    # Read the hacker_news.csv file from data directory\n",
    "    df = pd.read_csv(file_path)\n",
    "    \n",
    "    # Get the first five rows\n",
    "    print(\"First 5 Rows:\")\n",
    "    print(df.head(), \"\\n\")\n",
    "\n",
    "    # Get the last five rows\n",
    "    print(\"Last 5 Rows:\")\n",
    "    print(df.tail(), \"\\n\")\n",
    "\n",
    "    # Get the title column as pandas series\n",
    "    if \"title\" in df.columns:\n",
    "        titles = df[\"title\"]\n",
    "        print(\"Title Column:\")\n",
    "        print(titles.head(), \"\\n\")\n",
    "    else:\n",
    "        print(\"Column 'title' not found in dataset.\\n\")\n",
    "\n",
    "    # Count the number of rows and columns\n",
    "    print(\"Dataset Shape (Rows, Columns):\", df.shape, \"\\n\")\n",
    "\n",
    "    # Filter the titles which contain 'Python'\n",
    "    if \"title\" in df.columns:\n",
    "        python_titles = df[df[\"title\"].str.contains(\"Python\", case=False, na=False)]\n",
    "        print(\"Titles containing 'Python':\")\n",
    "        print(python_titles, \"\\n\")\n",
    "    \n",
    "        # Filter the titles which contain 'JavaScript'\n",
    "        javascript_titles = df[df[\"title\"].str.contains(\"JavaScript\", case=False, na=False)]\n",
    "        print(\"Titles containing 'JavaScript':\")\n",
    "        print(javascript_titles, \"\\n\")\n",
    "    else:\n",
    "        print(\"Column 'title' not found. Skipping filtering.\\n\")\n",
    "\n",
    "    # Explore the data\n",
    "    print(\"Dataset Info:\")\n",
    "    print(df.info(), \"\\n\")\n",
    "\n",
    "    print(\"Summary Statistics:\")\n",
    "    print(df.describe(include='all'), \"\\n\")\n",
    "\n",
    "    if \"title\" in df.columns:\n",
    "        print(\"Number of Unique Titles:\", df[\"title\"].nunique(), \"\\n\")\n",
    "        print(\"Most Common Titles:\")\n",
    "        print(df[\"title\"].value_counts().head(10))\n",
    "    \n",
    "except FileNotFoundError:\n",
    "    print(f\"Error: The file '{file_path}' was not found. Please check the path and try again.\")"
   ]
  }
 ],
 "metadata": {
  "kernelspec": {
   "display_name": "Python 3",
   "language": "python",
   "name": "python3"
  },
  "language_info": {
   "codemirror_mode": {
    "name": "ipython",
    "version": 3
   },
   "file_extension": ".py",
   "mimetype": "text/x-python",
   "name": "python",
   "nbconvert_exporter": "python",
   "pygments_lexer": "ipython3",
   "version": "3.12.6"
  }
 },
 "nbformat": 4,
 "nbformat_minor": 2
}
