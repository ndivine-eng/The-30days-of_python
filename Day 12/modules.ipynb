{
 "cells": [
  {
   "cell_type": "code",
   "execution_count": 1,
   "metadata": {},
   "outputs": [
    {
     "name": "stdout",
     "output_type": "stream",
     "text": [
      "cTwQLe\n",
      "['QcjQJyEkxfMjP7gYeJKfj374N4exk1j8CgkICYu7IsQ4l', 'yeOTChJsee6RvdM5Q1J1PuDsSpJk7QOLYEDYnOJhqCLNE', 'GCdP3j31NUuPD3TOuOSJpgjO7QASHKZPxo7iE1WQIdvDn', '80AXQGBcqGZUxKJSptIhHl1T49MRAXNXHK01pM7i0aSEb', 'IxIoDXxAMBvlVb9VtGNv17wVA1Z7NW8nVk3gtqI6Tqq6j', 'RU1LsSBpmc8ulDpN87lhPPQbFVr5dEIMmSOzoteCMeZzD', 'z0amvZhExIcRy1UnwvvTQy6iszdl7PlYm9a146ElVvYsU', 'CRHDAZwBkro3yc62b4YSP0mSWkCtBDx6nHYIp8HharzFe', '5BGKZ5BIgyuqn6YEqyLCXY0sTS8uq2EuNXYuTlhRsrGhX', 'Efv6bxF215aqek8a5EkP2FzxO4tFucknfs0yhtqNq7xxa', 'lQbWWOx54BrdjxX94a7ldadFISVpNUfLPRXSO8IN4CDcz', '41o1nq5zBfLEfRqdCJUAYG6fZi9nT19ICrHZsiziUet1D', 'dZ2djIPD1Me5oFs1ft4tFtw0yMwh1N3RbD6cmDPOfh7t1', 'pOOYi1JqX9iQcQk8HoPeM6s0ez0XnN1aaKWlFCCba7akH', 'Igsrzbhlo2G2JQQbUalaidioqWhEQBTD0fsPUdRnLT9cd', 'WHPwK4CKyewwm9bGnALcRcV3d0WCmnSOTwIKyrgapTuOB', 'Aq0uSQs5xWs5zLWZdnhaT6PP1SMpbPHuqLopP7LS1918V', 'maob657ZsiuwkW0gazQBVNnn4eAVZJJxopV4IAbDKG0QO', 'WirD4whcav0BkC5aFMzukScERP38eX4lGFba8XbL6vMzr', 'wruQu3nWnGVr6sLNtrh1PtnBpbqQSdqJIP3sbh2i0Bvib', 'xASeXKItOZtbGIuG37WUyiFOwTTp8vvzKVDRYTm2CeY1s', '2HgKZl36gaLG378sJTUTapl2hVYyKUGj1TCmidxn6aGnp', 'QVVvYQ6kJC2nz22x4X1ekza5kWc2nMU6ICn3OlXZ6cTvU', '0Rvz6LrSarzcx2oxSa1VeiAYfbYbdosCcGUZEz23MSGVA', 'RFi4ykWLdBP9AsgCSIljLi7enSwrkSrPtQ4GV8cTC8Xaj', 'IM9PBlqyo1c2zwtS4o3nK0zkcS6eZVg21o6Y4eiajp1nj', 'Aq6cCbBnl9khByDnC4VJvroDSvcWHlJpI8QJS56ThveEf', 'DaBAvH581wXnpuPgNxcJW9HCVVsl60b9X1ilUEPcPQgPH', 'C83YmJ5fSnfqzzF6qBw8L4nVLbyPycxumEy7krgrCm5JQ', 'f5Gm8Zob2it9JnDgA0xMEQmm0M1CT2yVemUqUc03BHLqj', 'OTjHCGHV41YwWoZmbZXiquXzCJMsSqRx0BcmrJsU6EO4o', 'TF2A1EmhcrtwetZ73IunkECpN97zuy3Rg7WC53upXijrU', 'F5CnSFaPKMQ7patb43jAOUl7k2TsdZDucg0IsjfgyWpV9', 'TlCVdtDErUU1DeustlJrUmt7yiuVBmnw7nDY0YXuLeApL', 'eEkaWDae45Rp30zJISFZBQOgfwtHx8eSJQAqKHcmGIST2', 'Dc4ZrJ3JsT7H3zuJkAnK1mvZleUsBSK7RpYSygr5SLifD', '7nDBKTzSwaIdqnVT75OUaj5lOPYSHpxw2KvtGUHrwImn9', 'WecR2drJUJW8Ag9yHr4UGnCGZQbnpCiUgyVyLJASQiDsI', '2VSX1powIhwsxEhOl4db9WmuAgopzUoYwOKcIAHW3cqv7', 'NRKzdTptgYAwsHm95TtO9ZfZuBjxH6tO6G6GEL6fxjpi7', '3IIKYJ9UH9gEd5Oh5xlJnWwzQK3MvCriVKDevqzgGejoN', '5qb11PMOpkUej8dsHRhJQ4Sk7NyjPKxrQWaQl0yywxUvR', 'Zam7FvIxzH0zK64DC7UnqE4m53X1dJ97mLVf5XdNMaQmZ', 'd6nntr4aCQQ9uCxi1soZ2BxEXfAHESUsDlnE5sKR1KUeu', 'U6RNzesRqIZC1RJCPsYvjXo7nN7W8CoLeS7RctbU3zJF7', '9T9cc59uwU5Wx53JjWYoIvKnvj8ryDNmCCnlPgwcqrA5R', 'fXdwLyY8bPnyeQJX8X1nByYqq9Qduvfv4fVVsUFqy9f66', 'MuRcxMVqfuU4uImEyqd6iSmRYbjRmCFiwE8BjsLx39Pmf', '8xZ017rpUTnDooeDzsT9GmuKJicc0jU6Ko3oQUl8oPik9', 'A0klEDgQkBseTQB5eLaUY1P2oCU9eoXvDcCXEwGnT7PXT', '9brO6Q4G5WWvJ9KWsJ8XX3F1Y4g5imWOjgsJO6Fg1Ri4Z', 't7eTEslklwlqxiVpUeR6XbkPcfTQuMEs2qBbnvkwty0P2', 'TTmFRqOMhsreNVb81y1EiYdtupy6KpSGi8QeHFqgJE2GW', 'Um3x853v77khUj4xbJtT4s0tcrRYFGw9edfNDfmTVFVbF', 'W0010doBZEsmKvkS75Fvp2RW8x1X2UZQoVbnPACJ64QQ1', '6gh4SsygMweXze489JWwVbvnD46QDfNtWmH6q29gauvyq']\n",
      "rgb(235, 121, 191)\n",
      "['#df1375', '#1e8501', '#0c8ca0']\n",
      "['rgb(115, 217, 82)', 'rgb(110, 156, 240)', 'rgb(141, 188, 114)']\n",
      "[4, 7, 5, 3, 2, 9, 1, 8, 6]\n",
      "[5, 6, 2, 7, 9, 8, 3]\n"
     ]
    }
   ],
   "source": [
    "import random\n",
    "import string\n",
    "\n",
    "# Function to generate a random 6-character user ID\n",
    "def random_user_id():\n",
    "    return ''.join(random.choices(string.ascii_letters + string.digits, k=6))\n",
    "\n",
    "print(random_user_id())\n",
    "\n",
    "# Function to generate multiple user IDs based on user input\n",
    "def user_id_gen_by_user():\n",
    "    num_chars = int(input(\"Enter the number of characters per ID: \"))  # Get number of characters per ID\n",
    "    num_ids = int(input(\"Enter the number of IDs to generate: \"))  # Get number of IDs to generate\n",
    "    \n",
    "    # Generate and return the list of IDs\n",
    "    return [''.join(random.choices(string.ascii_letters + string.digits, k=num_chars)) for _ in range(num_ids)]\n",
    "\n",
    "print(user_id_gen_by_user())\n",
    "\n",
    "# Function to generate a random RGB color\n",
    "def rgb_color_gen():\n",
    "    return f\"rgb({random.randint(0,255)}, {random.randint(0,255)}, {random.randint(0,255)})\"\n",
    "\n",
    "print(rgb_color_gen())\n",
    "\n",
    "# Function to generate a list of random hexadecimal colors\n",
    "def list_of_hexa_colors(num):\n",
    "    return [f\"#{''.join(random.choices('0123456789abcdef', k=6))}\" for _ in range(num)]\n",
    "\n",
    "# Function to generate a list of random RGB colors\n",
    "def list_of_rgb_colors(num):\n",
    "    return [rgb_color_gen() for _ in range(num)]\n",
    "\n",
    "# Function to generate a list of colors in either HEX or RGB format\n",
    "def generate_colors(color_type, num):\n",
    "    if color_type == 'hexa':\n",
    "        return list_of_hexa_colors(num)  # Generate hexadecimal colors\n",
    "    elif color_type == 'rgb':\n",
    "        return list_of_rgb_colors(num)  # Generate RGB colors\n",
    "    else:\n",
    "        return \"Invalid color type. Use 'hexa' or 'rgb'.\"\n",
    "\n",
    "print(generate_colors('hexa', 3))\n",
    "print(generate_colors('rgb', 3))\n",
    "\n",
    "# Function to shuffle a given list\n",
    "def shuffle_list(lst):\n",
    "    random.shuffle(lst)  # Shuffle the list in place\n",
    "    return lst\n",
    "\n",
    "print(shuffle_list([1, 2, 3, 4, 5, 6, 7, 8, 9]))\n",
    "\n",
    "# Function to generate an array of seven unique random numbers in the range 0-9\n",
    "def unique_random_numbers():\n",
    "    return random.sample(range(10), 7)  # Generate 7 unique numbers from 0-9\n",
    "\n",
    "print(unique_random_numbers())\n"
   ]
  }
 ],
 "metadata": {
  "kernelspec": {
   "display_name": "Python 3",
   "language": "python",
   "name": "python3"
  },
  "language_info": {
   "codemirror_mode": {
    "name": "ipython",
    "version": 3
   },
   "file_extension": ".py",
   "mimetype": "text/x-python",
   "name": "python",
   "nbconvert_exporter": "python",
   "pygments_lexer": "ipython3",
   "version": "3.12.6"
  }
 },
 "nbformat": 4,
 "nbformat_minor": 2
}
