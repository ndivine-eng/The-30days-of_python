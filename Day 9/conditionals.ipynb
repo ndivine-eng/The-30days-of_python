{
 "cells": [
  {
   "cell_type": "code",
   "execution_count": 8,
   "metadata": {},
   "outputs": [
    {
     "name": "stdout",
     "output_type": "stream",
     "text": [
      "wait for, 8  years to drive\n"
     ]
    }
   ],
   "source": [
    "# user inputing his her age\n",
    "Age = int(input(\"Enter your age:   \"))\n",
    "if Age >= 18:\n",
    "    print (\"You are old enough to drive\")\n",
    "else:\n",
    "    years_left = 18 - Age\n",
    "    print (\"wait for,\", years_left, \" years to drive\")"
   ]
  },
  {
   "cell_type": "code",
   "execution_count": null,
   "metadata": {},
   "outputs": [
    {
     "name": "stdout",
     "output_type": "stream",
     "text": [
      "we are the same age\n"
     ]
    }
   ],
   "source": [
    "# comparing some one's age with mine \n",
    "My_age = 20\n",
    "your_age = int(input(\"Enter your age: \"))\n",
    "\n",
    "if My_age > your_age:          \n",
    "    print(\"you are \", My_age - your_age,\"years younger than me\")\n",
    "elif My_age == your_age:\n",
    "    print(\"we are the same age\")\n",
    "else:\n",
    "    print(\"you are \", your_age - My_age,\"years older than me\")"
   ]
  },
  {
   "cell_type": "code",
   "execution_count": 12,
   "metadata": {},
   "outputs": [
    {
     "name": "stdout",
     "output_type": "stream",
     "text": [
      "You are older than me by 11 years.\n"
     ]
    }
   ],
   "source": [
    "# compare my age using nested condition\n",
    "\n",
    "my_age = int(input(\"Enter your age: \"))\n",
    "your_age = int(input(\"Enter my age: \"))\n",
    "\n",
    "if my_age > your_age:\n",
    "    difference = my_age - your_age\n",
    "    if difference == 1:\n",
    "        print(\"I am older than you by 1 year.\")\n",
    "    else:\n",
    "        print(f\"I am older than you by {difference} years.\")\n",
    "elif my_age < your_age:\n",
    "    difference = your_age - my_age\n",
    "    if difference == 1:\n",
    "        print(\"You are older than me by 1 year.\")\n",
    "    else:\n",
    "        print(f\"You are older than me by {difference} years.\")\n",
    "else:\n",
    "    print(\"We are the same age!\")\n"
   ]
  },
  {
   "cell_type": "code",
   "execution_count": 13,
   "metadata": {},
   "outputs": [
    {
     "name": "stdout",
     "output_type": "stream",
     "text": [
      "45.0 is smaller than 56.0.\n"
     ]
    }
   ],
   "source": [
    "# Get the first number from the user and convert it to float\n",
    "a = float(input(\"Enter the first number (a): \"))\n",
    "\n",
    "# Get the second number from the user and convert it to float\n",
    "b = float(input(\"Enter the second number (b): \"))\n",
    "\n",
    "# Compare the two numbers\n",
    "if a > b:\n",
    "    # If 'a' is greater than 'b', print this message\n",
    "    print(f\"{a} is greater than {b}.\")\n",
    "elif a < b:\n",
    "    # If 'a' is smaller than 'b', print this message\n",
    "    print(f\"{a} is smaller than {b}.\")\n",
    "else:\n",
    "    # If 'a' is equal to 'b', print this message\n",
    "    print(f\"{a} is equal to {b}.\")\n"
   ]
  },
  {
   "cell_type": "markdown",
   "metadata": {},
   "source": [
    "Exercises: Level 2\n"
   ]
  },
  {
   "cell_type": "code",
   "execution_count": 16,
   "metadata": {},
   "outputs": [
    {
     "name": "stdout",
     "output_type": "stream",
     "text": [
      "Your grade is C\n"
     ]
    }
   ],
   "source": [
    "# Get the student's score as a floating-point number\n",
    "Score = float(input(\"Enter your score: \"))\n",
    "\n",
    "# Ensure the score is within a valid range (0-100)\n",
    "if Score < 0 or Score > 100:\n",
    "    print(\"Invalid score! Please enter a number between 0 and 100.\")\n",
    "else:\n",
    "    # Check the score range and assign the corresponding grade\n",
    "    if Score >= 80:\n",
    "        print(\"Your grade is A\")\n",
    "    elif Score >= 70:\n",
    "        print(\"Your grade is B\")\n",
    "    elif Score >= 60:\n",
    "        print(\"Your grade is C\")\n",
    "    elif Score >= 50:\n",
    "        print(\"Your grade is D\")\n",
    "    else:\n",
    "        print(\"Your grade is F\")  # Any score below 50 results in an F\n"
   ]
  },
  {
   "cell_type": "code",
   "execution_count": 18,
   "metadata": {},
   "outputs": [
    {
     "name": "stdout",
     "output_type": "stream",
     "text": [
      "The season is Spring.\n"
     ]
    }
   ],
   "source": [
    "# Get the month from the user\n",
    "month = input(\"Enter the month: \").strip().capitalize()  # Remove extra spaces and capitalize first letter\n",
    "\n",
    "# Check which season the month belongs to\n",
    "if month in [\"September\", \"October\", \"November\"]:\n",
    "    print(\"The season is Autumn.\")\n",
    "elif month in [\"December\", \"January\", \"February\"]:\n",
    "    print(\"The season is Winter.\")\n",
    "elif month in [\"March\", \"April\", \"May\"]:\n",
    "    print(\"The season is Spring.\")\n",
    "elif month in [\"June\", \"July\", \"August\"]:\n",
    "    print(\"The season is Summer.\")\n",
    "else:\n",
    "    print(\"Invalid input! Please enter a valid month.\")\n"
   ]
  },
  {
   "cell_type": "code",
   "execution_count": 19,
   "metadata": {},
   "outputs": [
    {
     "name": "stdout",
     "output_type": "stream",
     "text": [
      "That fruit already exists in the list.\n"
     ]
    }
   ],
   "source": [
    "# List of fruits\n",
    "fruits = ['banana', 'orange', 'mango', 'lemon']\n",
    "\n",
    "# Get user input for a fruit\n",
    "new_fruit = input(\"Enter a fruit: \").strip().lower()  # Remove extra spaces and convert to lowercase\n",
    "\n",
    "# Check if the fruit is in the list\n",
    "if new_fruit in fruits:\n",
    "    print(\"That fruit already exists in the list.\")\n",
    "else:\n",
    "    fruits.append(new_fruit)  # Add the new fruit to the list\n",
    "    print(\"Fruit added successfully!\")\n",
    "    print(\"Updated fruit list:\", fruits)\n"
   ]
  },
  {
   "cell_type": "code",
   "execution_count": 20,
   "metadata": {},
   "outputs": [
    {
     "name": "stdout",
     "output_type": "stream",
     "text": [
      "Middle skill: Node\n",
      "The person has Python skill: True\n",
      "He is a backend developer\n",
      "Asabeneh Yetayeh lives in Finland. He is married.\n"
     ]
    }
   ],
   "source": [
    "# Define the person dictionary\n",
    "person = {\n",
    "    'first_name': 'Asabeneh',\n",
    "    'last_name': 'Yetayeh',\n",
    "    'age': 250,\n",
    "    'country': 'Finland',\n",
    "    'is_married': True,\n",
    "    'skills': ['JavaScript', 'React', 'Node', 'MongoDB', 'Python'],\n",
    "    'address': {\n",
    "        'street': 'Space street',\n",
    "        'zipcode': '02210'\n",
    "    }\n",
    "}\n",
    "\n",
    "# Check if 'skills' key exists in the dictionary\n",
    "if 'skills' in person:\n",
    "    skills_list = person['skills']\n",
    "    \n",
    "    # Print the middle skill if the skills list is not empty\n",
    "    if len(skills_list) > 0:\n",
    "        middle_index = len(skills_list) // 2\n",
    "        print(\"Middle skill:\", skills_list[middle_index])\n",
    "\n",
    "    # Check if 'Python' is in the skills list\n",
    "    if 'Python' in skills_list:\n",
    "        print(\"The person has Python skill:\", True)\n",
    "    else:\n",
    "        print(\"The person has Python skill:\", False)\n",
    "\n",
    "    # Determine the person's role based on skills\n",
    "    if skills_list == ['JavaScript', 'React']:\n",
    "        print(\"He is a front-end developer\")\n",
    "    elif all(skill in skills_list for skill in ['Node', 'Python', 'MongoDB']):\n",
    "        print(\"He is a backend developer\")\n",
    "    elif all(skill in skills_list for skill in ['React', 'Node', 'MongoDB']):\n",
    "        print(\"He is a fullstack developer\")\n",
    "    else:\n",
    "        print(\"Unknown title\")\n",
    "\n",
    "# Check if the person is married and lives in Finland\n",
    "if person.get('is_married') and person.get('country') == 'Finland':\n",
    "    print(f\"{person['first_name']} {person['last_name']} lives in {person['country']}. He is married.\")\n"
   ]
  }
 ],
 "metadata": {
  "kernelspec": {
   "display_name": "Python 3",
   "language": "python",
   "name": "python3"
  },
  "language_info": {
   "codemirror_mode": {
    "name": "ipython",
    "version": 3
   },
   "file_extension": ".py",
   "mimetype": "text/x-python",
   "name": "python",
   "nbconvert_exporter": "python",
   "pygments_lexer": "ipython3",
   "version": "3.12.6"
  }
 },
 "nbformat": 4,
 "nbformat_minor": 2
}
