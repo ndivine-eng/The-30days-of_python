{
 "cells": [
  {
   "cell_type": "markdown",
   "metadata": {},
   "source": [
    "There are four collection data types in Python :\n",
    "\n",
    "List: is a collection which is ordered and changeable(modifiable). Allows duplicate members.\n",
    "Tuple: is a collection which is ordered and unchangeable or unmodifiable(immutable). Allows duplicate members.\n",
    "Set: is a collection which is unordered, un-indexed and unmodifiable, but we can add new items to the set. Duplicate members are not allowed.\n",
    "Dictionary: is a collection which is unordered, changeable(modifiable) and indexed. No duplicate members.\n",
    "A list is collection of different data types which is ordered and modifiable(mutable). A list can be empty or it may have different data type items."
   ]
  },
  {
   "cell_type": "markdown",
   "metadata": {},
   "source": [
    "How to Create a List\n",
    "In Python we can create lists in two ways:\n"
   ]
  },
  {
   "cell_type": "code",
   "execution_count": 3,
   "metadata": {},
   "outputs": [
    {
     "name": "stdout",
     "output_type": "stream",
     "text": [
      "[]\n",
      "[]\n",
      "Fruits: ['banana', 'orange', 'mango', 'lemon']\n",
      "Number of fruits: 4\n",
      "Vegetables: ['Tomato', 'Potato', 'Cabbage', 'Onion', 'Carrot']\n",
      "Number of vegetables: 5\n",
      "Animal products: ['milk', 'meat', 'butter', 'yoghurt']\n",
      "Number of animal products: 4\n",
      "Web technologies: ['HTML', 'CSS', 'JS', 'React', 'Redux', 'Node', 'MongDB']\n",
      "Number of web technologies: 7\n",
      "Countries: ['Finland', 'Estonia', 'Denmark', 'Sweden', 'Norway']\n",
      "Number of countries: 5\n"
     ]
    }
   ],
   "source": [
    "# Using list built-in function \n",
    "list1 = list() # this is an empty list\n",
    "print(list1)\n",
    "\n",
    "# Using square brackets, []\n",
    "list2 = [] # this is an empty list\n",
    "print(list2)\n",
    "\n",
    "# Lists with initial values. We use len() to find the length of a list.\n",
    "fruits = ['banana', 'orange', 'mango', 'lemon']                     # list of fruits\n",
    "vegetables = ['Tomato', 'Potato', 'Cabbage','Onion', 'Carrot']      # list of vegetables\n",
    "animal_products = ['milk', 'meat', 'butter', 'yoghurt']             # list of animal products\n",
    "web_techs = ['HTML', 'CSS', 'JS', 'React','Redux', 'Node', 'MongDB'] # list of web technologies\n",
    "countries = ['Finland', 'Estonia', 'Denmark', 'Sweden', 'Norway']\n",
    "\n",
    "# Print the lists and its length\n",
    "print('Fruits:', fruits)\n",
    "print('Number of fruits:', len(fruits))\n",
    "print('Vegetables:', vegetables)\n",
    "print('Number of vegetables:', len(vegetables))\n",
    "print('Animal products:',animal_products)\n",
    "print('Number of animal products:', len(animal_products))\n",
    "print('Web technologies:', web_techs)\n",
    "print('Number of web technologies:', len(web_techs))\n",
    "print('Countries:', countries)\n",
    "print('Number of countries:', len(countries))"
   ]
  },
  {
   "cell_type": "markdown",
   "metadata": {},
   "source": [
    "Slicing Items from a List\n",
    "Positive Indexing: We can specify a range of positive indexes by specifying the start, end and step, the return value will be a new list. (default values for start = 0, end = len(lst) - 1 (last item), step = 1)"
   ]
  },
  {
   "cell_type": "code",
   "execution_count": null,
   "metadata": {},
   "outputs": [],
   "source": [
    "fruits = ['banana', 'orange', 'mango', 'lemon']\n",
    "all_fruits = fruits[0:4] # it returns all the fruits\n",
    "# this will also give the same result as the one above\n",
    "all_fruits = fruits[0:] # if we don't set where to stop it takes all the rest\n",
    "orange_and_mango = fruits[1:3] # it does not include the first index\n",
    "orange_mango_lemon = fruits[1:]\n",
    "orange_and_lemon = fruits[::2] # here we used a 3rd argument, step. It will take every 2cnd item - ['banana', 'mango']"
   ]
  },
  {
   "cell_type": "markdown",
   "metadata": {},
   "source": [
    "Negative Indexing: We can specify a range of negative indexes by specifying the start, end and step, the return value will be a new list."
   ]
  },
  {
   "cell_type": "code",
   "execution_count": null,
   "metadata": {},
   "outputs": [],
   "source": [
    "fruits = ['banana', 'orange', 'mango', 'lemon']\n",
    "all_fruits = fruits[-4:] # it returns all the fruits\n",
    "orange_and_mango = fruits[-3:-1] # it does not include the last index,['orange', 'mango']\n",
    "orange_mango_lemon = fruits[-3:] # this will give starting from -3 to the end,['orange', 'mango', 'lemon']\n",
    "reverse_fruits = fruits[::-1] # a negative step will take the list in reverse order,['lemon', 'mango', 'orange', 'banana']"
   ]
  },
  {
   "cell_type": "code",
   "execution_count": null,
   "metadata": {},
   "outputs": [],
   "source": [
    "# Modifying Lists\n",
    "# List is a mutable or modifiable ordered collection of items. Lets modify the fruit list.\n",
    "fruits = ['banana', 'orange', 'mango', 'lemon']\n",
    "fruits[0] = 'avocado'\n",
    "print(fruits)       #  ['avocado', 'orange', 'mango', 'lemon']\n",
    "fruits[1] = 'apple'\n",
    "print(fruits)       #  ['avocado', 'apple', 'mango', 'lemon']\n",
    "last_index = len(fruits) - 1\n",
    "fruits[last_index] = 'lime'\n",
    "print(fruits)        #  ['avocado', 'apple', 'mango', 'lime']"
   ]
  },
  {
   "cell_type": "markdown",
   "metadata": {},
   "source": [
    "Checking Items in a List\n",
    "Checking an item if it is a member of a list using in operator. See the example below."
   ]
  },
  {
   "cell_type": "code",
   "execution_count": 4,
   "metadata": {},
   "outputs": [
    {
     "name": "stdout",
     "output_type": "stream",
     "text": [
      "True\n",
      "False\n"
     ]
    }
   ],
   "source": [
    "fruits = ['banana', 'orange', 'mango', 'lemon']\n",
    "does_exist = 'banana' in fruits\n",
    "print(does_exist)  # True\n",
    "does_exist = 'lime' in fruits\n",
    "print(does_exist)  # False"
   ]
  },
  {
   "cell_type": "markdown",
   "metadata": {},
   "source": [
    "Adding Items to a List\n",
    "To add item to the end of an existing list we use the method append()."
   ]
  },
  {
   "cell_type": "code",
   "execution_count": null,
   "metadata": {},
   "outputs": [],
   "source": [
    "fruits = ['banana', 'orange', 'mango', 'lemon']\n",
    "fruits.append('apple')\n",
    "print(fruits)           # ['banana', 'orange', 'mango', 'lemon', 'apple']\n",
    "fruits.append('lime')   # ['banana', 'orange', 'mango', 'lemon', 'apple', 'lime']\n",
    "print(fruits)"
   ]
  },
  {
   "cell_type": "markdown",
   "metadata": {},
   "source": [
    "Removing Items from a List\n",
    "The remove method removes a specified item from a list"
   ]
  },
  {
   "cell_type": "code",
   "execution_count": null,
   "metadata": {},
   "outputs": [],
   "source": [
    "fruits = ['banana', 'orange', 'mango', 'lemon', 'banana']\n",
    "fruits.remove('banana')\n",
    "print(fruits)  # ['orange', 'mango', 'lemon', 'banana'] - this method removes the first occurrence of the item in the list\n",
    "fruits.remove('lemon')\n",
    "print(fruits)  # ['orange', 'mango', 'banana']"
   ]
  },
  {
   "cell_type": "markdown",
   "metadata": {},
   "source": [
    "Removing Items Using Pop\n",
    "The pop() method removes the specified index, (or the last item if index is not specified)"
   ]
  },
  {
   "cell_type": "code",
   "execution_count": null,
   "metadata": {},
   "outputs": [],
   "source": [
    "fruits = ['banana', 'orange', 'mango', 'lemon']\n",
    "fruits.pop()\n",
    "print(fruits)       # ['banana', 'orange', 'mango']\n",
    "\n",
    "fruits.pop(0)\n",
    "print(fruits)       # ['orange', 'mango']"
   ]
  },
  {
   "cell_type": "markdown",
   "metadata": {},
   "source": [
    "Removing Items Using Del\n",
    "The del keyword removes the specified index and it can also be used to delete items within index range. It can also delete the list completely"
   ]
  },
  {
   "cell_type": "code",
   "execution_count": null,
   "metadata": {},
   "outputs": [],
   "source": [
    "fruits = ['banana', 'orange', 'mango', 'lemon', 'kiwi', 'lime']\n",
    "del fruits[0]\n",
    "print(fruits)       # ['orange', 'mango', 'lemon', 'kiwi', 'lime']\n",
    "del fruits[1]\n",
    "print(fruits)       # ['orange', 'lemon', 'kiwi', 'lime']\n",
    "del fruits[1:3]     # this deletes items between given indexes, so it does not delete the item with index 3!\n",
    "print(fruits)       # ['orange', 'lime']\n",
    "del fruits\n",
    "print(fruits)       # This should give: NameError: name 'fruits' is not defined"
   ]
  },
  {
   "cell_type": "code",
   "execution_count": null,
   "metadata": {},
   "outputs": [],
   "source": [
    "# The clear() method empties the list:\n",
    "fruits = ['banana', 'orange', 'mango', 'lemon']\n",
    "fruits.clear()\n",
    "print(fruits)       # []"
   ]
  },
  {
   "cell_type": "markdown",
   "metadata": {},
   "source": [
    "Copying a List\n",
    "It is possible to copy a list by reassigning it to a new variable in the following way: list2 = list1. Now, list2 is a reference of list1, any changes we make in list2 will also modify the original, list1. But there are lots of case in which we do not like to modify the original instead we like to have a different copy. One of way of avoiding the problem above is using copy()."
   ]
  },
  {
   "cell_type": "code",
   "execution_count": null,
   "metadata": {},
   "outputs": [],
   "source": [
    "fruits = ['banana', 'orange', 'mango', 'lemon']\n",
    "fruits_copy = fruits.copy()\n",
    "print(fruits_copy)       # ['banana', 'orange', 'mango', 'lemon']"
   ]
  },
  {
   "cell_type": "markdown",
   "metadata": {},
   "source": [
    "Joining Lists\n",
    "There are several ways to join, or concatenate, two or more lists in Python.\n",
    "\n",
    "Plus Operator (+)"
   ]
  },
  {
   "cell_type": "code",
   "execution_count": null,
   "metadata": {},
   "outputs": [],
   "source": [
    "positive_numbers = [1, 2, 3, 4, 5]\n",
    "zero = [0]\n",
    "negative_numbers = [-5,-4,-3,-2,-1]\n",
    "integers = negative_numbers + zero + positive_numbers\n",
    "print(integers) # [-5, -4, -3, -2, -1, 0, 1, 2, 3, 4, 5]\n",
    "fruits = ['banana', 'orange', 'mango', 'lemon']\n",
    "vegetables = ['Tomato', 'Potato', 'Cabbage', 'Onion', 'Carrot']\n",
    "fruits_and_vegetables = fruits + vegetables\n",
    "print(fruits_and_vegetables ) # ['banana', 'orange', 'mango', 'lemon', 'Tomato', 'Potato', 'Cabbage', 'Onion', 'Carrot']"
   ]
  },
  {
   "cell_type": "code",
   "execution_count": null,
   "metadata": {},
   "outputs": [],
   "source": [
    "# Joining using extend() method The extend() method allows to append list in a list. See the example below.\n",
    "\n",
    "num1 = [0, 1, 2, 3]\n",
    "num2= [4, 5, 6]\n",
    "num1.extend(num2)\n",
    "print('Numbers:', num1) # Numbers: [0, 1, 2, 3, 4, 5, 6]\n",
    "negative_numbers = [-5,-4,-3,-2,-1]\n",
    "positive_numbers = [1, 2, 3,4,5]\n",
    "zero = [0]\n",
    "\n",
    "negative_numbers.extend(zero)\n",
    "negative_numbers.extend(positive_numbers)\n",
    "print('Integers:', negative_numbers) # Integers: [-5, -4, -3, -2, -1, 0, 1, 2, 3, 4, 5]\n",
    "fruits = ['banana', 'orange', 'mango', 'lemon']\n",
    "vegetables = ['Tomato', 'Potato', 'Cabbage', 'Onion', 'Carrot']\n",
    "fruits.extend(vegetables)\n",
    "print('Fruits and vegetables:', fruits ) # Fruits and vegetables: ['banana', 'orange', 'mango', 'lemon', 'Tomato', 'Potato', 'Cabbage', 'Onion', 'Carrot']"
   ]
  },
  {
   "cell_type": "markdown",
   "metadata": {},
   "source": [
    "Counting Items in a List\n",
    "The count() method returns the number of times an item appears in a list:"
   ]
  },
  {
   "cell_type": "code",
   "execution_count": null,
   "metadata": {},
   "outputs": [],
   "source": [
    "fruits = ['banana', 'orange', 'mango', 'lemon']\n",
    "print(fruits.count('orange'))   # 1\n",
    "ages = [22, 19, 24, 25, 26, 24, 25, 24]\n",
    "print(ages.count(24))           # 3\n",
    "# The index() method returns the index of an item in the list:\n",
    "fruits = ['banana', 'orange', 'mango', 'lemon']\n",
    "print(fruits.index('orange'))   # 1\n",
    "ages = [22, 19, 24, 25, 26, 24, 25, 24]\n",
    "print(ages.index(24))           # 2, the first occurrence\n",
    "\n",
    "# The reverse() method reverses the order of a list.\n",
    "fruits = ['banana', 'orange', 'mango', 'lemon']\n",
    "fruits.reverse()\n",
    "print(fruits) # ['lemon', 'mango', 'orange', 'banana']\n",
    "ages = [22, 19, 24, 25, 26, 24, 25, 24]\n",
    "ages.reverse()\n",
    "print(ages) # [24, 25, 24, 26, 25, 24, 19, 22]"
   ]
  },
  {
   "cell_type": "markdown",
   "metadata": {},
   "source": [
    "Sorting List Items\n",
    "To sort lists we can use sort() method or sorted() built-in functions. The sort() method reorders the list items in ascending order and modifies the original list. If an argument of sort() method reverse is equal to true, it will arrange the list in descending order.\n",
    "\n",
    "sort(): this method modifies the original list"
   ]
  },
  {
   "cell_type": "code",
   "execution_count": 5,
   "metadata": {},
   "outputs": [
    {
     "name": "stdout",
     "output_type": "stream",
     "text": [
      "['banana', 'lemon', 'mango', 'orange']\n",
      "['orange', 'mango', 'lemon', 'banana']\n",
      "[19, 22, 24, 24, 24, 25, 25, 26]\n",
      "[26, 25, 25, 24, 24, 24, 22, 19]\n"
     ]
    }
   ],
   "source": [
    "fruits = ['banana', 'orange', 'mango', 'lemon']\n",
    "fruits.sort()\n",
    "print(fruits)             # sorted in alphabetical order, ['banana', 'lemon', 'mango', 'orange']\n",
    "fruits.sort(reverse=True)\n",
    "print(fruits) # ['orange', 'mango', 'lemon', 'banana']\n",
    "ages = [22, 19, 24, 25, 26, 24, 25, 24]\n",
    "ages.sort()\n",
    "print(ages) #  [19, 22, 24, 24, 24, 25, 25, 26]\n",
    "\n",
    "ages.sort(reverse=True)\n",
    "print(ages) #  [26, 25, 25, 24, 24, 24, 22, 19]"
   ]
  },
  {
   "cell_type": "markdown",
   "metadata": {},
   "source": [
    "QUESTIONS"
   ]
  },
  {
   "cell_type": "code",
   "execution_count": 12,
   "metadata": {},
   "outputs": [
    {
     "name": "stdout",
     "output_type": "stream",
     "text": [
      "['apple', 'banana', 'orange', 'grape', 'cherry']\n",
      "Length of my_list: 5\n",
      "First item: apple\n",
      "Middle item: orange\n",
      "Last item: cherry\n",
      "['Nubuhoro Divine', 20, 1.65, 'Single', 'Gihundwe, Rwanda']\n",
      "IT Companies: ['Facebook', 'Google', 'Microsoft', 'Apple', 'IBM', 'Oracle', 'Amazon']\n",
      "Number of IT companies: 7\n",
      "First company: Facebook\n",
      "Middle company: Apple\n",
      "Last company: Amazon\n",
      "Modified list: ['Facebook', 'Google', 'Meta', 'Apple', 'IBM', 'Oracle', 'Amazon']\n",
      "List after adding a company: ['Facebook', 'Google', 'Meta', 'Apple', 'IBM', 'Oracle', 'Amazon', 'Tesla']\n",
      "List after inserting a company: ['Facebook', 'Google', 'Meta', 'Apple', 'Adobe', 'IBM', 'Oracle', 'Amazon', 'Tesla']\n",
      "List after changing a company name to uppercase: ['Facebook', 'GOOGLE', 'Meta', 'Apple', 'Adobe', 'IBM', 'Oracle', 'Amazon', 'Tesla']\n",
      "Joined companies: Facebook#; GOOGLE#; Meta#; Apple#; Adobe#; IBM#; Oracle#; Amazon#; Tesla\n",
      "Does Amazon exist in the list? True\n",
      "Sorted list: ['Adobe', 'Amazon', 'Apple', 'Facebook', 'GOOGLE', 'IBM', 'Meta', 'Oracle', 'Tesla']\n",
      "Reversed list: ['Tesla', 'Oracle', 'Meta', 'IBM', 'GOOGLE', 'Facebook', 'Apple', 'Amazon', 'Adobe']\n",
      "First 3 companies: ['Tesla', 'Oracle', 'Meta']\n",
      "Last 3 companies: ['Apple', 'Amazon', 'Adobe']\n",
      "Middle company: GOOGLE\n",
      "List after removing the first company: ['Oracle', 'Meta', 'IBM', 'GOOGLE', 'Facebook', 'Apple', 'Amazon', 'Adobe']\n",
      "List after removing the middle company: ['Oracle', 'Meta', 'IBM', 'GOOGLE', 'Apple', 'Amazon', 'Adobe']\n",
      "List after removing the last company: ['Oracle', 'Meta', 'IBM', 'GOOGLE', 'Apple', 'Amazon']\n",
      "List after removing all companies: []\n",
      "Joined lists: ['Python', 'Java', 'C++', 'HTML', 'CSS', 'JavaScript']\n"
     ]
    }
   ],
   "source": [
    "# Declare an empty list\n",
    "empty_list = []\n",
    "\n",
    "# Declare a list with more than 5 items\n",
    "my_list = ['apple', 'banana', 'orange', 'grape', 'cherry']\n",
    "print(my_list)\n",
    "\n",
    "# Find the length of the list\n",
    "print(\"Length of my_list:\", len(my_list))\n",
    "\n",
    "# Get the first, middle, and last items of the list\n",
    "first_item = my_list[0]\n",
    "middle_item = my_list[len(my_list) // 2]\n",
    "last_item = my_list[-1]\n",
    "print(\"First item:\", first_item)\n",
    "print(\"Middle item:\", middle_item)\n",
    "print(\"Last item:\", last_item)\n",
    "\n",
    "# Declare a list with mixed data types\n",
    "mixed_data_types = [\"Nubuhoro Divine\", 20, 1.65, \"Single\", \"Gihundwe, Rwanda\"]\n",
    "print(mixed_data_types)\n",
    "\n",
    "# Declare a list of IT companies\n",
    "it_companies = [\"Facebook\", \"Google\", \"Microsoft\", \"Apple\", \"IBM\", \"Oracle\", \"Amazon\"]\n",
    "\n",
    "# Print the IT companies list\n",
    "print(\"IT Companies:\", it_companies)\n",
    "\n",
    "# Print the number of IT companies\n",
    "print(\"Number of IT companies:\", len(it_companies))\n",
    "\n",
    "# Print the first, middle, and last company\n",
    "print(\"First company:\", it_companies[0])\n",
    "print(\"Middle company:\", it_companies[len(it_companies) // 2])\n",
    "print(\"Last company:\", it_companies[-1])\n",
    "\n",
    "# Modify one of the companies\n",
    "it_companies[2] = \"Meta\"\n",
    "print(\"Modified list:\", it_companies)\n",
    "\n",
    "# Add an IT company\n",
    "it_companies.append(\"Tesla\")\n",
    "print(\"List after adding a company:\", it_companies)\n",
    "\n",
    "# Insert an IT company in the middle\n",
    "it_companies.insert(len(it_companies) // 2, \"Adobe\")\n",
    "print(\"List after inserting a company:\", it_companies)\n",
    "\n",
    "# Change one of the company names to uppercase (excluding IBM)\n",
    "it_companies[1] = it_companies[1].upper()\n",
    "print(\"List after changing a company name to uppercase:\", it_companies)\n",
    "\n",
    "# Join the IT companies with a string '#; '\n",
    "joined_companies = '#; '.join(it_companies)\n",
    "print(\"Joined companies:\", joined_companies)\n",
    "\n",
    "# Check if a company exists in the list\n",
    "company_to_check = \"Amazon\"\n",
    "print(f\"Does {company_to_check} exist in the list?\", company_to_check in it_companies)\n",
    "\n",
    "# Sort the list\n",
    "it_companies.sort()\n",
    "print(\"Sorted list:\", it_companies)\n",
    "\n",
    "# Reverse the list in descending order\n",
    "it_companies.reverse()\n",
    "print(\"Reversed list:\", it_companies)\n",
    "\n",
    "# Slice out the first 3 companies\n",
    "print(\"First 3 companies:\", it_companies[:3])\n",
    "\n",
    "# Slice out the last 3 companies\n",
    "print(\"Last 3 companies:\", it_companies[-3:])\n",
    "\n",
    "# Slice out the middle company or companies\n",
    "middle_index = len(it_companies) // 2\n",
    "if len(it_companies) % 2 == 0:\n",
    "    print(\"Middle companies:\", it_companies[middle_index-1:middle_index+1])\n",
    "else:\n",
    "    print(\"Middle company:\", it_companies[middle_index])\n",
    "\n",
    "# Remove the first IT company\n",
    "del it_companies[0]\n",
    "print(\"List after removing the first company:\", it_companies)\n",
    "\n",
    "# Remove the middle IT company or companies\n",
    "middle_index = len(it_companies) // 2\n",
    "del it_companies[middle_index]\n",
    "print(\"List after removing the middle company:\", it_companies)\n",
    "\n",
    "# Remove the last IT company\n",
    "it_companies.pop()\n",
    "print(\"List after removing the last company:\", it_companies)\n",
    "\n",
    "# Remove all IT companies\n",
    "it_companies.clear()\n",
    "print(\"List after removing all companies:\", it_companies)\n",
    "\n",
    "# Destroy the IT companies list\n",
    "del it_companies\n",
    "\n",
    "# Join the following lists\n",
    "list1 = [\"Python\", \"Java\", \"C++\"]\n",
    "list2 = [\"HTML\", \"CSS\", \"JavaScript\"]\n",
    "joined_lists = list1 + list2\n",
    "print(\"Joined lists:\", joined_lists)\n"
   ]
  }
 ],
 "metadata": {
  "kernelspec": {
   "display_name": "Python 3",
   "language": "python",
   "name": "python3"
  },
  "language_info": {
   "codemirror_mode": {
    "name": "ipython",
    "version": 3
   },
   "file_extension": ".py",
   "mimetype": "text/x-python",
   "name": "python",
   "nbconvert_exporter": "python",
   "pygments_lexer": "ipython3",
   "version": "3.12.6"
  }
 },
 "nbformat": 4,
 "nbformat_minor": 2
}
