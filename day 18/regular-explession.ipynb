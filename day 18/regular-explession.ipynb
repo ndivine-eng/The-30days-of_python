{
 "cells": [
  {
   "cell_type": "code",
   "execution_count": null,
   "metadata": {},
   "outputs": [
    {
     "name": "stdout",
     "output_type": "stream",
     "text": [
      "[('love', 6), ('you', 5), ('can', 3), ('i', 2), ('teaching', 2), ('if', 2), ('do', 2), ('not', 2), ('what', 2), ('else', 2), ('python', 1), ('something', 1), ('which', 1), ('give', 1), ('all', 1), ('the', 1), ('capabilities', 1), ('to', 1), ('develop', 1), ('an', 1), ('application', 1)]\n"
     ]
    }
   ],
   "source": [
    "from collections import Counter\n",
    "import re\n",
    "\n",
    "paragraph = '''I love teaching. If you do not love teaching what else can you love. \n",
    "I love Python if you do not love something which can give you all the capabilities \n",
    "to develop an application what else can you love.'''\n",
    "\n",
    "# Convert to lowercase and remove punctuation\n",
    "words = re.findall(r'\\b\\w+\\b', paragraph.lower())\n",
    "\n",
    "# Count word frequencies\n",
    "word_counts = Counter(words)\n",
    "\n",
    "# Get the most common words\n",
    "most_common_words = word_counts.most_common()\n",
    "\n",
    "print(most_common_words)  # List of tuples sorted by frequency\n",
    "\n",
    "# Explanation:\n",
    "\n",
    "# re.findall(r'\\b\\w+\\b', paragraph.lower()) extracts words without punctuation.\n",
    "\n",
    "# Counter(words).most_common() returns words sorted by frequency.\n"
   ]
  },
  {
   "cell_type": "code",
   "execution_count": 3,
   "metadata": {},
   "outputs": [
    {
     "name": "stdout",
     "output_type": "stream",
     "text": [
      "Distance: 20\n"
     ]
    }
   ],
   "source": [
    "# Level 1: Find Distance Between Furthest Points\n",
    "points = [-12, -4, -3, -1, 0, 4, 8]\n",
    "\n",
    "# Find the distance between the farthest points\n",
    "distance = max(points) - min(points)\n",
    "\n",
    "print(\"Distance:\", distance)  # Output: 20\n"
   ]
  },
  {
   "cell_type": "code",
   "execution_count": 4,
   "metadata": {},
   "outputs": [
    {
     "name": "stdout",
     "output_type": "stream",
     "text": [
      "True\n",
      "False\n",
      "False\n",
      "True\n"
     ]
    }
   ],
   "source": [
    "# Level 2: Check Valid Python Variable Name\n",
    "import re\n",
    "\n",
    "def is_valid_variable(var):\n",
    "    return bool(re.match(r'^[a-zA-Z_][a-zA-Z0-9_]*$', var))\n",
    "\n",
    "# Test cases\n",
    "print(is_valid_variable('first_name'))  # True\n",
    "print(is_valid_variable('first-name'))  # False\n",
    "print(is_valid_variable('1first_name'))  # False\n",
    "print(is_valid_variable('firstname'))  # True\n"
   ]
  },
  {
   "cell_type": "code",
   "execution_count": 5,
   "metadata": {},
   "outputs": [
    {
     "name": "stdout",
     "output_type": "stream",
     "text": [
      "I am a teacher and I love teaching \n",
      "There is nothing as more rewarding as educating and empowering people \n",
      "I found teaching more interesting than any other jobs \n",
      "Does this motivate you to be a teacher\n",
      "[('i', 3), ('a', 2), ('teacher', 2)]\n"
     ]
    }
   ],
   "source": [
    "# Level 3: Clean Text and Find Most Frequent Words\n",
    "import re\n",
    "from collections import Counter\n",
    "\n",
    "sentence = '''%I $am@% a %tea@cher%, &and& I lo%#ve %tea@ching%;. \n",
    "There $is nothing; &as& mo@re rewarding as educa@ting &and& @emp%o@wering peo@ple. \n",
    ";I found tea@ching m%o@re interesting tha@n any other %jo@bs. \n",
    "%Do@es thi%s mo@tivate yo@u to be a tea@cher!?'''\n",
    "\n",
    "def clean_text(text):\n",
    "    # Remove special characters and keep only words\n",
    "    cleaned = re.sub(r'[^a-zA-Z\\s]', '', text)\n",
    "    return cleaned\n",
    "\n",
    "# Clean the text\n",
    "cleaned_text = clean_text(sentence)\n",
    "\n",
    "# Count word frequencies\n",
    "words = cleaned_text.lower().split()\n",
    "word_counts = Counter(words)\n",
    "\n",
    "# Get the top 3 most common words\n",
    "top_three = word_counts.most_common(3)\n",
    "\n",
    "print(cleaned_text)  # Print cleaned text\n",
    "print(top_three)  # Print the 3 most frequent words\n"
   ]
  },
  {
   "cell_type": "markdown",
   "metadata": {},
   "source": [
    "\n",
    "Explanation:\n",
    "\n",
    "re.sub(r'[^a-zA-Z\\s]', '', text) removes all special characters.\n",
    "\n",
    "Converts text to lowercase and splits it into words.\n",
    "\n",
    "Counter(words).most_common(3) finds the top 3 most frequent words"
   ]
  }
 ],
 "metadata": {
  "kernelspec": {
   "display_name": "Python 3",
   "language": "python",
   "name": "python3"
  },
  "language_info": {
   "codemirror_mode": {
    "name": "ipython",
    "version": 3
   },
   "file_extension": ".py",
   "mimetype": "text/x-python",
   "name": "python",
   "nbconvert_exporter": "python",
   "pygments_lexer": "ipython3",
   "version": "3.12.6"
  }
 },
 "nbformat": 4,
 "nbformat_minor": 2
}
