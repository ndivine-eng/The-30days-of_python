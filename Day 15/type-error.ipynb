{
 "cells": [
  {
   "cell_type": "markdown",
   "metadata": {},
   "source": [
    "When writing code, it is common to make typos or other errors. If our code fails to run, the Python interpreter provides an error message, indicating where the problem occurs and the type of error. Understanding different types of errors helps us debug quickly and improves our coding skills. The most common error types include SyntaxError, which occurs when the code does not follow proper syntax rules. For example, print 'hello world' raises a SyntaxError because it lacks parentheses, but it can be corrected by using print('hello world'). Another common error is NameError, which occurs when we try to use an undefined variable, such as print(age) without first defining age. This can be fixed by assigning a value to the variable before using it. IndexError happens when we attempt to access a list index that is out of range, such as numbers[5] in a list with only five elements (indices 0-4). Similarly, ModuleNotFoundError arises when we try to import a module that does not exist, like import maths instead of import math.\n",
    "\n",
    "Another frequent issue is AttributeError, which occurs when trying to access an attribute that does not exist in a module or object. For instance, math.PI raises an AttributeError because the correct attribute name is math.pi. KeyError happens when we attempt to access a dictionary key that does not exist, such as users['county'] instead of users['country']. TypeError occurs when an operation is performed on incompatible data types, like 4 + '3', which requires type conversion using int('3') or str(4). ImportError occurs when trying to import a function that does not exist within a module, such as from math import power, whereas the correct function is pow. ValueError arises when a function receives an argument of the correct type but an inappropriate value, like trying to convert '12a' to an integer using int('12a'). Lastly, ZeroDivisionError occurs when attempting to divide by zero, as in 1/0.\n",
    "\n",
    "Understanding these error types allows us to debug our code efficiently. \n"
   ]
  }
 ],
 "metadata": {
  "kernelspec": {
   "display_name": "Python 3",
   "language": "python",
   "name": "python3"
  },
  "language_info": {
   "codemirror_mode": {
    "name": "ipython",
    "version": 3
   },
   "file_extension": ".py",
   "mimetype": "text/x-python",
   "name": "python",
   "nbconvert_exporter": "python",
   "pygments_lexer": "ipython3",
   "version": "3.12.6"
  }
 },
 "nbformat": 4,
 "nbformat_minor": 2
}
