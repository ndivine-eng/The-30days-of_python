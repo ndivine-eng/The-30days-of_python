{
 "cells": [
  {
   "cell_type": "code",
   "execution_count": 28,
   "metadata": {},
   "outputs": [
    {
     "name": "stdout",
     "output_type": "stream",
     "text": [
      "()\n",
      "('Dany', 'Deo', 'Adeline', 'Dorcas')\n",
      "I have 4 siblings.\n",
      " my family members : ('Dany', 'Deo', 'Adeline', 'Dorcas', 'Father', 'Mother')\n",
      "my siblings are: ('Dany', 'Deo', 'Adeline', 'Dorcas')\n",
      "my father is: Father\n",
      "my mother is: Mother\n",
      "my food stuff tuple is : ('banana', 'orange', 'mango', 'lemon', 'Tomato', 'Potato', 'Cabbage', 'Onion', 'Carrot', 'milk', 'meat', 'butter', 'yoghurt')\n",
      "my food stuff list is : ['banana', 'orange', 'mango', 'lemon', 'Tomato', 'Potato', 'Cabbage', 'Onion', 'Carrot', 'milk', 'meat', 'butter', 'yoghurt']\n",
      "Middle items: ['banana', 'orange', 'mango']\n",
      "Last items: ['meat', 'butter', 'yoghurt']\n",
      "False\n",
      "True\n"
     ]
    }
   ],
   "source": [
    "# this is the empty tuple\n",
    "my_tuple = ()\n",
    "print(my_tuple)\n",
    "# Create a tuple containing names of your sisters and your brothers\n",
    "\n",
    "my_sister = (\"Adeline\",  \"Dorcas\")\n",
    "my_brothers = (\"Dany\", \"Deo\")\n",
    "\n",
    "# Join brothers and sisters tuples and assign it to siblings\n",
    "siblings = my_brothers + my_sister\n",
    "print(siblings)\n",
    "#counting siblings\n",
    "print(f\"I have {len(siblings)} siblings.\")\n",
    "\n",
    "\n",
    "# Modify the siblings tuple and add the name of your father and mother and assign it to family_members\n",
    "family_members = siblings + (\"Father\", \"Mother\")\n",
    "print( f\" my family members : {family_members}\")\n",
    "#Unpack siblings and parents from family_members\n",
    "siblings = family_members[:-2]\n",
    "father, mother = family_members[-2:]\n",
    "print (f\"my siblings are: {siblings}\")\n",
    "print (f\"my father is: {father}\")\n",
    "print (f\"my mother is: {mother}\")\n",
    "# Create fruits, vegetables and animal products tuples. Join the three tuples and assign it to a variable called food_stuff_tp.\n",
    "\n",
    "fruits = (\"banana\", \"orange\", \"mango\", \"lemon\")\n",
    "vegetables = (\"Tomato\", \"Potato\", \"Cabbage\",\"Onion\", \"Carrot\")\n",
    "animal_products = (\"milk\", \"meat\", \"butter\", \"yoghurt\")\n",
    "food_stuff_tp = fruits + vegetables + animal_products\n",
    "print (f\"my food stuff tuple is : {food_stuff_tp}\")\n",
    "\n",
    "# Change the about food_stuff_tp tuple to a food_stuff_lt list\n",
    "food_stuff_lt = list (food_stuff_tp)\n",
    "print (f\"my food stuff list is : {food_stuff_lt}\")\n",
    "# Slice out the first three items and the last three items from food_staff_lt list\n",
    "middle_items = food_stuff_lt[:3]  \n",
    "print(\"Middle items:\", middle_items)\n",
    "last_items = food_stuff_lt[-3:]\n",
    "print(\"Last items:\", last_items)\n",
    "# Delete the food_staff_tp tuple completely\n",
    "del food_stuff_tp\n",
    "nordic_countries = ('Denmark', 'Finland','Iceland', 'Norway', 'Sweden')\n",
    "# check if some countries are in nordic country\n",
    "print(\"Estonia\" in nordic_countries)\n",
    "print(\"Iceland\" in nordic_countries)\n"
   ]
  }
 ],
 "metadata": {
  "kernelspec": {
   "display_name": "Python 3",
   "language": "python",
   "name": "python3"
  },
  "language_info": {
   "codemirror_mode": {
    "name": "ipython",
    "version": 3
   },
   "file_extension": ".py",
   "mimetype": "text/x-python",
   "name": "python",
   "nbconvert_exporter": "python",
   "pygments_lexer": "ipython3",
   "version": "3.12.6"
  }
 },
 "nbformat": 4,
 "nbformat_minor": 2
}
