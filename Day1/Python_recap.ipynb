{
 "cells": [
  {
   "cell_type": "code",
   "execution_count": 9,
   "metadata": {},
   "outputs": [
    {
     "name": "stdout",
     "output_type": "stream",
     "text": [
      "5\n",
      "2\n",
      "6\n",
      "1.5\n",
      "1\n",
      "1\n",
      "-2\n",
      "-3\n",
      "9\n"
     ]
    }
   ],
   "source": [
    "# 30 days of python\n",
    "\n",
    "\n",
    "# Day 1\n",
    "# checking the version of python(python --version)\n",
    "# operations in python (+,-,/,%,//,**)\n",
    "print(3 +2) #this is addition\n",
    "print(3-1) #This is subtraction\n",
    "print(3*2) #This is multiplication\n",
    "print(3/2) #This is division\n",
    "print(5%2) #This is modulus, the out put is the remainder \n",
    "print(3//2) #This is floor division it is not rounding it reject the decimal\n",
    "print(-5//4) #This is floor division which truncet to the nearest smollest figure`\n",
    "print(-11//4)\n",
    "print(3**2) #This is exponent\n"
   ]
  },
  {
   "cell_type": "code",
   "execution_count": null,
   "metadata": {},
   "outputs": [
    {
     "name": "stdout",
     "output_type": "stream",
     "text": [
      "<class 'int'>\n",
      "<class 'float'>\n",
      "<class 'complex'>\n",
      "<class 'str'>\n",
      "<class 'list'>\n",
      "<class 'dict'>\n",
      "<class 'set'>\n",
      "<class 'tuple'>\n",
      "<class 'bool'>\n",
      "<class 'bool'>\n",
      "Emmanuel\n"
     ]
    }
   ],
   "source": [
    "# checking data types \n",
    "print(type(10))                  # Int\n",
    "print(type(3.14))                # Float\n",
    "print(type(1 + 3j))              # Complex\n",
    "print(type('Asabeneh'))          # String\n",
    "print(type([1, 2, 3]))           # List\n",
    "print(type({'name':'Asabeneh'})) # Dictionary\n",
    "print(type({9.8, 3.14, 2.7}))    # Set\n",
    "print(type((9.8, 3.14, 2.7)))    # Tuple\n",
    "print(type(3 == 3))              # Bool\n",
    "print(type(3 >= 3))              # Bool"
   ]
  },
  {
   "cell_type": "code",
   "execution_count": null,
   "metadata": {},
   "outputs": [],
   "source": [
    "\n"
   ]
  }
 ],
 "metadata": {
  "kernelspec": {
   "display_name": "Python 3",
   "language": "python",
   "name": "python3"
  },
  "language_info": {
   "codemirror_mode": {
    "name": "ipython",
    "version": 3
   },
   "file_extension": ".py",
   "mimetype": "text/x-python",
   "name": "python",
   "nbconvert_exporter": "python",
   "pygments_lexer": "ipython3",
   "version": "3.12.6"
  }
 },
 "nbformat": 4,
 "nbformat_minor": 2
}
